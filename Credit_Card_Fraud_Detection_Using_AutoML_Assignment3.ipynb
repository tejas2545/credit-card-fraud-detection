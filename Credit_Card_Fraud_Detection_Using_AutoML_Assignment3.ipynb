{
 "cells": [
  {
   "cell_type": "markdown",
   "metadata": {
    "id": "QYbNh0jDT-N5"
   },
   "source": [
    "<h1 style=\"text-align: center;font-size: 40px;\">Enhancing Credit Card Fraud Detection Using AutoML and AGI Concepts</h1>\n",
    "\n",
    "## GROUP-ASSIGNMENT-2\n",
    "### **Team Members:**  \n",
    "###  Tejaskumar Sanjaykumar Patel (200575242)\n",
    "###  Chintan Chauhan  (200564227)\n",
    "###  Priyank Bhaveshbhai Siddhapura (200544911)  \n",
    "###  John Hanok (200573253)\n",
    "\n",
    "## 🔍 Problem Statement & Solution\n",
    "Credit card fraud is a growing issue in online banking and e-commerce, often hidden within large volumes of legitimate transactions. To address this, we built an AutoML-based fraud detection system using the MLJAR framework. Our model automatically selects and tunes the best algorithms to classify transactions as fraudulent or not. Inspired by three research papers, our approach focuses on handling data imbalance and optimizing precision and recall rather than just accuracy, making the system more effective in real-world fraud scenarios.\n",
    "\n",
    "\n",
    "---\n",
    "\n",
    "## 🧩 Issues Faced & Resolutions\n",
    "## 💡 Our Solution\n",
    "We implemented an AutoML-based pipeline using **PyCaret**, addressing the key concern raised in Assignment 2 feedback: **our model's inability to detect fraud despite high overall accuracy**. In this final phase, we:\n",
    "- Focused on F1-score and precision-recall AUC\n",
    "- Implemented **SMOTE** for better balance\n",
    "- Refined model selection and configuration\n",
    "- Visualized outcomes clearly and added AGI enhancements\n",
    "\n",
    "---\n",
    "\n",
    "## 🔄 From Prototype to Now\n",
    "\n",
    "In Assignment 2, we built a basic AutoML pipeline using PyCaret, which achieved high overall accuracy but failed to detect fraud cases effectively. Since then, we've significantly enhanced the solution based on both model evaluation feedback and conceptual improvement goals.\n",
    "\n",
    "### ✅ Key Improvements Made Since Prototype:\n",
    "\n",
    "- **Threshold Optimization**: We enabled `optimize_threshold=True` to find the best probability threshold for classification, improving detection of fraudulent cases while reducing false positives.\n",
    "\n",
    "- **Ensemble Learning**: Added `train_ensemble=True` in PyCaret to build more robust and generalizable models by combining multiple learners (e.g., Bagging, Boosting).\n",
    "\n",
    "- **Feature Reduction**: Using feature importance rankings from PyCaret, we removed less relevant variables and reduced model complexity, improving interpretability and training time.\n",
    "\n",
    "- **Class Imbalance Handling**: Applied **SMOTE (Synthetic Minority Oversampling Technique)** to balance the classes before passing them to PyCaret, ensuring the model isn't biased toward non-fraud cases.\n",
    "\n",
    "- **Evaluation Strategy Shift**: Switched from evaluating based on accuracy to **F1-score**, **PR-AUC**, and **confusion matrix**, which are more appropriate for imbalanced classification tasks.\n",
    "\n",
    "- **Conceptual Enhancement**: Integrated the idea of **Artificial General Intelligence (AGI)** as a future-proof direction to build fraud detection systems that adapt and learn like human intelligence.\n",
    "\n",
    "These changes represent our transition from a basic working prototype to a fine-tuned, real-world-ready fraud detection pipeline using AutoML.\n",
    "---\n",
    "## 🌎 Real-World Value\n",
    "This model, when integrated into real-time transaction systems, can prevent millions in losses. It can trigger alerts for unusual patterns and reduce false positives compared to rigid rule-based systems."
   ]
  },
  {
   "cell_type": "markdown",
   "metadata": {
    "id": "uFgqluhJU3BS"
   },
   "source": [
    "# **Step 1: Importing Required Libraries**"
   ]
  },
  {
   "cell_type": "code",
   "execution_count": null,
   "metadata": {
    "colab": {
     "base_uri": "https://localhost:8080/"
    },
    "id": "aig4lPsnU6D1",
    "outputId": "9d3d86b0-acc5-423e-daa6-96c09983c3eb"
   },
   "outputs": [],
   "source": [
    "!pip install --pre pycaret[full] --extra-index-url https://pypi.org/simple --upgrade --quiet\n"
   ]
  },
  {
   "cell_type": "code",
   "execution_count": null,
   "metadata": {
    "colab": {
     "base_uri": "https://localhost:8080/"
    },
    "id": "S20DPYnuVMRp",
    "outputId": "8ae1c124-c2f1-401c-95a8-04e8ceb3863d"
   },
   "outputs": [],
   "source": [
    "!pip install numpy==1.23.5 --force-reinstall --quiet\n"
   ]
  },
  {
   "cell_type": "code",
   "execution_count": null,
   "metadata": {
    "colab": {
     "base_uri": "https://localhost:8080/"
    },
    "id": "D0A7tQSgcAWp",
    "outputId": "e052756a-c4f3-4edb-f9b5-2ec3e75cd402"
   },
   "outputs": [],
   "source": [
    "import pandas as pd\n",
    "import numpy as np\n",
    "import seaborn as sns\n",
    "import matplotlib.pyplot as plt\n",
    "\n",
    "from pycaret.classification import *\n",
    "from imblearn.over_sampling import SMOTE\n",
    "from sklearn.model_selection import train_test_split\n"
   ]
  },
  {
   "cell_type": "markdown",
   "metadata": {
    "id": "6rGtw8whd26e"
   },
   "source": [
    "# **Step 2: Load and Explore Dataset**"
   ]
  },
  {
   "cell_type": "code",
   "execution_count": null,
   "metadata": {
    "colab": {
     "base_uri": "https://localhost:8080/",
     "height": 765
    },
    "id": "80DYPzdvcBMC",
    "outputId": "07fc010b-77e4-44b8-9feb-fd3c62e7a13b"
   },
   "outputs": [],
   "source": [
    "# LoadDataset\n",
    "data = pd.read_csv(\"/content/credit_card_fraud_dataset.csv\")\n",
    "# ViewBasicInfo\n",
    "print(\"Shape of dataset:\", data.shape)\n",
    "print(\"\\nSample data:\")\n",
    "display(data.head())\n",
    "\n",
    "# CheckClassBalance\n",
    "sns.countplot(x='IsFraud', data=data)\n",
    "plt.title(\"Distribution of Fraud (1) and Non-Fraud (0)\")\n",
    "plt.show()\n"
   ]
  },
  {
   "cell_type": "markdown",
   "metadata": {
    "id": "2a5YXx61d9nd"
   },
   "source": [
    "# **Step 3: Apply SMOTE to Balance Dataset**"
   ]
  },
  {
   "cell_type": "code",
   "execution_count": null,
   "metadata": {
    "colab": {
     "base_uri": "https://localhost:8080/",
     "height": 524
    },
    "id": "fj7Md976c9Pj",
    "outputId": "5e4aca91-4f14-47f7-d592-9c71afe863be"
   },
   "outputs": [],
   "source": [
    "# Make a copy so original remains untouched\n",
    "data_encoded = data.copy()\n",
    "\n",
    "# Drop TransactionDate (not usable directly in SMOTE)\n",
    "data_encoded = data_encoded.drop(columns=['TransactionDate', 'TransactionID'])\n",
    "\n",
    "# Encode categorical features\n",
    "data_encoded = pd.get_dummies(data_encoded, columns=['TransactionType', 'Location'], drop_first=True)\n",
    "\n",
    "# Separate X and y\n",
    "X = data_encoded.drop('IsFraud', axis=1)\n",
    "y = data_encoded['IsFraud']\n",
    "\n",
    "# Apply SMOTE\n",
    "from imblearn.over_sampling import SMOTE\n",
    "smote = SMOTE(random_state=42)\n",
    "X_resampled, y_resampled = smote.fit_resample(X, y)\n",
    "\n",
    "# Combine for PyCaret\n",
    "balanced_df = pd.concat([pd.DataFrame(X_resampled, columns=X.columns),\n",
    "                         pd.DataFrame(y_resampled, columns=['IsFraud'])], axis=1)\n",
    "\n",
    "# Visualize balance\n",
    "sns.countplot(x='IsFraud', data=balanced_df)\n",
    "plt.title(\"Balanced Class Distribution (After SMOTE)\")\n",
    "plt.show()\n"
   ]
  },
  {
   "cell_type": "markdown",
   "metadata": {
    "id": "HieVHp2ifK-X"
   },
   "source": [
    "# **Step 4: Setup PyCaret AutoML with F1-score Focus**"
   ]
  },
  {
   "cell_type": "code",
   "execution_count": null,
   "metadata": {
    "colab": {
     "base_uri": "https://localhost:8080/",
     "height": 708
    },
    "id": "zbHjgKPNerhD",
    "outputId": "6524880f-b446-4721-d998-e41d1317600c"
   },
   "outputs": [],
   "source": [
    "clf = setup(\n",
    "    data=balanced_df,\n",
    "    target='IsFraud',\n",
    "    session_id=42,\n",
    "    normalize=True,\n",
    "    use_gpu=False,\n",
    "    fold_strategy='stratifiedkfold',\n",
    "    fold=5\n",
    ")\n"
   ]
  },
  {
   "cell_type": "markdown",
   "metadata": {
    "id": "qBwjsTLXgbI8"
   },
   "source": [
    "## **Step 5: Compare Models Based on F1-Score**"
   ]
  },
  {
   "cell_type": "code",
   "execution_count": null,
   "metadata": {
    "colab": {
     "base_uri": "https://localhost:8080/",
     "height": 551,
     "referenced_widgets": [
      "3d8398b623fb4791ab90a18dca8c1d8a",
      "67f4a34153604ba8aebd7b4f9dd25ae2",
      "ee9e28b3cdb84a90ab41aedc25813905",
      "5496c32e5653451ca5d077fdbcd36246",
      "f910f8b0743d4f02b53e1572a4da4a08",
      "d53e9c75700d4ce6b666a257b0ae44c7",
      "1f747374521647cd8bc75684c815778c",
      "d23b979d6f66480db880b56e30f2041a",
      "f4f24890df314d189873b46d392d3657",
      "c60a5e3e97204f8484e3b079f66912bd",
      "3fd1753f6a1a437fbb784bb34ff938f7"
     ]
    },
    "id": "CQDmedQWfNhr",
    "outputId": "82d93551-9926-4ae3-8125-62b0e003c55e"
   },
   "outputs": [],
   "source": [
    "best_model = compare_models(sort='F1')\n"
   ]
  },
  {
   "cell_type": "markdown",
   "metadata": {
    "id": "HMzfCrjYipqU"
   },
   "source": [
    "# **Step 6:Evaluate Best Model with Precision-Recall & Confusion Matrix**"
   ]
  },
  {
   "cell_type": "code",
   "execution_count": null,
   "metadata": {
    "colab": {
     "base_uri": "https://localhost:8080/",
     "height": 215,
     "referenced_widgets": [
      "242d7eafe69a4776920e9f6d5fbe006c",
      "a3023d21ca3b4c5fb996e0ea601cd469",
      "f69776e4651f421996231a21a371cf1b",
      "9791ad4c89a14bfdbd5ec1e10f3350c1",
      "80b0d3ae02344e87bbbb3235f0e6cc1c",
      "9bd22e2c9d4a4fe4ab3aca2b7065af23",
      "0d3462d2f10448bca3cc04391646c012"
     ]
    },
    "id": "Roszg4NtgiQf",
    "outputId": "350d68d8-0c12-4d38-8559-0f181d5823df"
   },
   "outputs": [],
   "source": [
    "evaluate_model(best_model)\n"
   ]
  },
  {
   "cell_type": "markdown",
   "metadata": {
    "id": "mDLCODASiwo7"
   },
   "source": [
    "# **Step 7: Finalize and Predict**"
   ]
  },
  {
   "cell_type": "code",
   "execution_count": null,
   "metadata": {
    "colab": {
     "base_uri": "https://localhost:8080/",
     "height": 270
    },
    "id": "3-LR9q_Diz2Q",
    "outputId": "c18a69e0-bf1e-42e8-9fac-6af8e95f1477"
   },
   "outputs": [],
   "source": [
    "# FinalizeAndPredict\n",
    "final_model = finalize_model(best_model)\n",
    "predictions = predict_model(final_model)\n",
    "\n",
    "# ShowPredictionSample\n",
    "predictions[['prediction_label', 'prediction_score']].head()\n",
    "\n"
   ]
  },
  {
   "cell_type": "markdown",
   "metadata": {
    "id": "42-7WN_WjBKD"
   },
   "source": [
    "# **Step 8: Visualization**"
   ]
  },
  {
   "cell_type": "code",
   "execution_count": null,
   "metadata": {
    "colab": {
     "base_uri": "https://localhost:8080/",
     "height": 1000
    },
    "id": "SbfckBWSjElu",
    "outputId": "7cc12b0e-9245-43d6-c1f4-3e745060e4ce"
   },
   "outputs": [],
   "source": [
    "# ConfusionMatrix\n",
    "plot_model(final_model, plot='confusion_matrix')\n",
    "\n",
    "# AUCPlot\n",
    "plot_model(final_model, plot='auc')\n",
    "\n",
    "# FeatureImportance\n",
    "plot_model(final_model, plot='feature')\n",
    "\n",
    "# ClassificationReport\n",
    "plot_model(final_model, plot='class_report')\n"
   ]
  },
  {
   "cell_type": "markdown",
   "metadata": {
    "id": "ZgfZ_WJTjGaS"
   },
   "source": [
    "# **Step 9: AGI Conceptual Enhancement (Header for Trailer)**"
   ]
  },
  {
   "cell_type": "markdown",
   "metadata": {
    "id": "zmTt28uXjU2y"
   },
   "source": [
    "# Conceptual Enhancement: Using AGI for Adaptive Fraud Detection\n",
    "\n",
    "In the future, Artificial General Intelligence (AGI) could enhance fraud detection systems by:\n",
    "\n",
    "- Understanding new fraud patterns without retraining\n",
    "- Simulating adversarial attacks to improve system robustness\n",
    "- Dynamically adapting to shifting customer behavior and fraud strategies\n",
    "\n",
    "AGI could automate not just model selection but continuous learning from evolving data, making systems proactive rather than reactive.\n"
   ]
  },
  {
   "cell_type": "markdown",
   "metadata": {
    "id": "WK0ERbtfzr2w"
   },
   "source": [
    "# **Step 10 :Learning Curve Analysis – Detecting Overfitting or Underfitting**"
   ]
  },
  {
   "cell_type": "code",
   "execution_count": null,
   "metadata": {
    "colab": {
     "base_uri": "https://localhost:8080/",
     "height": 839,
     "referenced_widgets": [
      "e44b34d7f49f4dd1a859b4961af227de",
      "7e282fc6325c4e1f80dd2dcb3c995c06",
      "2e2206de9e9c4af2a9efefc256210986",
      "c437042ae4d24ff0a72c76974be18e42",
      "cbe77f10a7234c33a464d5203e8323b0",
      "3d20a97086044edfa3c5144292bd61f9",
      "de87ca34862e4b0fb5d51d2819981a89",
      "350768a7356e4225800a6bf4a6515751",
      "fd2308f8de5c49138f5f557d06320b59",
      "3e04b5a85b7c4c0283f948639c1e4a3f",
      "415abe6d32f846098605b1c820d75bfa"
     ]
    },
    "id": "Rbj2FlBVnQF2",
    "outputId": "5a9466ba-7d4f-4e34-edf5-ab3dd73381f0"
   },
   "outputs": [],
   "source": [
    "# Create a simpler model to avoid parallel pickling\n",
    "simple_model = create_model('lr')  # Logistic Regression (safe for learning curve)\n",
    "plot_model(simple_model, plot='learning')\n"
   ]
  },
  {
   "cell_type": "markdown",
   "metadata": {
    "id": "q6qObiTezOhG"
   },
   "source": [
    "## 📈 Learning Curve Analysis\n",
    "\n",
    "We generated a learning curve using Logistic Regression to visualize model generalization performance over different training set sizes.\n",
    "\n",
    "- Both training and validation F1-scores remained close (~0.859) with minimal gap.\n",
    "- The curves are stable and nearly flat, indicating that increasing training data further may not yield major improvements.\n",
    "- The small variance bands suggest reliable and consistent model performance across cross-validation folds.\n",
    "\n",
    "### **Conclusion:** The model is well-generalized and not overfitting. It performs consistently across different training sizes, making it suitable for real-world deployment scenarios.\n"
   ]
  },
  {
   "cell_type": "markdown",
   "metadata": {
    "id": "ooPRLbtAjf9a"
   },
   "source": [
    "# **🎬 Final Trailer & Reflections**\n",
    "\n",
    "## 📚 What We Learned\n",
    "- Learned the importance of optimizing for **precision, recall, and F1-score** in imbalanced datasets like fraud detection.\n",
    "- Understood how **AutoML tools** can simplify and accelerate the machine learning pipeline.\n",
    "- Gained experience with **SMOTE** to balance data and improve the model’s ability to detect rare fraudulent cases.\n",
    "\n",
    "## 🔧 How We Improved From Prototype\n",
    "- Switched from accuracy to more meaningful metrics such as **PR-AUC** and **confusion matrix**.\n",
    "- Enabled **threshold optimization** and **ensemble learning** to increase the model’s robustness.\n",
    "- Used AutoML's **feature importance** to remove irrelevant variables and improve efficiency.\n",
    "\n",
    "## 🚀 Future Enhancements\n",
    "- Deploy the model in a real-time fraud alert system.\n",
    "- Introduce **time-based behavior detection** for adaptive learning.\n",
    "- Explore **AGI concepts** to develop a self-learning, continuously improving fraud detection engine.\n",
    "\n",
    "## 👥 Final Remarks from Team Members\n",
    "\n",
    "- **Tejaskumar Sanjaykumar Patel (200575242):** \"AutoML showed me how model performance can be automated and fine-tuned with minimal effort. The insights into AGI broadened my vision for future intelligent systems.\"\n",
    "\n",
    "- **Chintan Chauhan (200564227):** \"I appreciated learning how ensemble models and threshold optimization significantly affect fraud detection accuracy, especially when combined with AutoML.\"\n",
    "- **Priyank Bhaveshbhai Siddhapura (200544911):** \"Working on this assignment taught me how to streamline model development with PyCaret and MLJAR, and I’m excited about the potential of AGI in real-world fraud systems.\"\n",
    "\n",
    "- **John Hanok (200573253):** \"This project helped me understand how to handle class imbalance in real-world data and how critical evaluation metrics are when detecting rare events.\"\n",
    "> Our group values the opportunity to apply machine learning to a real-world issue like fraud and looks forward to building more intelligent, explainable, and impactful AI solutions.\n"
   ]
  },
  {
   "cell_type": "markdown",
   "metadata": {
    "id": "nQh1KNW60LZm"
   },
   "source": [
    "# **Bonus**"
   ]
  },
  {
   "cell_type": "code",
   "execution_count": null,
   "metadata": {
    "colab": {
     "base_uri": "https://localhost:8080/",
     "height": 542
    },
    "id": "V_SJC44rnPqo",
    "outputId": "db84cb39-d7ea-40ae-b0cf-26b167d5aa5c"
   },
   "outputs": [],
   "source": [
    "import plotly.express as px\n",
    "\n",
    "# GroupByLocationForFrauds\n",
    "fraud_by_location = data[data['IsFraud'] == 1].groupby('Location').size().reset_index(name='FraudCount')\n",
    "\n",
    "# PlotFraudCountsPerLocation\n",
    "fig = px.bar(fraud_by_location, x='Location', y='FraudCount', title='Fraud Count by City')\n",
    "fig.show()\n"
   ]
  },
  {
   "cell_type": "code",
   "execution_count": null,
   "metadata": {
    "colab": {
     "base_uri": "https://localhost:8080/",
     "height": 631
    },
    "id": "DQYFzjv50NTT",
    "outputId": "7555f95b-7113-4d79-9ec5-44a5b2fe5233"
   },
   "outputs": [],
   "source": [
    "#  Explainability with SHAP for model transparency\n",
    "import shap\n",
    "\n",
    "# Use only a small sample of data (e.g., 20 rows)\n",
    "X_sample = X_resampled.sample(20, random_state=42)\n",
    "\n",
    "# Use TreeExplainer for Extra Trees Classifier (very efficient for tree models)\n",
    "explainer = shap.TreeExplainer(best_model)\n",
    "\n",
    "# Compute SHAP values (faster with fewer rows)\n",
    "shap_values = explainer.shap_values(X_sample)\n",
    "\n",
    "# Plot SHAP summary for class 1 (fraud)\n",
    "shap.summary_plot(shap_values[1], X_sample)\n",
    "\n"
   ]
  },
  {
   "cell_type": "markdown",
   "metadata": {
    "id": "pkDEzRSI62xh"
   },
   "source": [
    "## SHAP Summary Plot: Feature Impact on Fraud Prediction\n",
    "\n",
    "This SHAP plot explains how each feature influenced the model's prediction for fraud detection.\n",
    "####  **Key takeaways:**\n",
    "\n",
    "- **Amount** and **MerchantID** had the highest impact, which makes sense — unusually high or suspicious amounts are often flagged.\n",
    "- **TransactionType_refund** (especially when high — shown in red) tends to **increase** the likelihood of being classified as fraud.\n",
    "- Location-based features such as **Location_Dallas** and **Location_San Antonio** also have meaningful SHAP values, suggesting some cities may have higher fraud risk patterns in the dataset."
   ]
  },
  {
   "cell_type": "code",
   "execution_count": null,
   "metadata": {
    "id": "U1eS3mIJ64F2"
   },
   "outputs": [],
   "source": []
  }
 ],
 "metadata": {
  "colab": {
   "provenance": []
  },
  "kernelspec": {
   "display_name": "Python 3",
   "name": "python3"
  },
  "language_info": {
   "name": "python"
  }
 },
 "nbformat": 4,
 "nbformat_minor": 0
}
