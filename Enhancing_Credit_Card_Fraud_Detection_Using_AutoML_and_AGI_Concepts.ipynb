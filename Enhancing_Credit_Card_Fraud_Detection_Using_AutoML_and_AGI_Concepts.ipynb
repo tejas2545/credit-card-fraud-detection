{
  "nbformat": 4,
  "nbformat_minor": 0,
  "metadata": {
    "colab": {
      "provenance": [],
      "authorship_tag": "ABX9TyNW81MXcRRx3Pjrv4cRo+JD",
      "include_colab_link": true
    },
    "kernelspec": {
      "name": "python3",
      "display_name": "Python 3"
    },
    "language_info": {
      "name": "python"
    },
    "widgets": {
      "application/vnd.jupyter.widget-state+json": {
        "3d8398b623fb4791ab90a18dca8c1d8a": {
          "model_module": "@jupyter-widgets/controls",
          "model_name": "HBoxModel",
          "model_module_version": "1.5.0",
          "state": {
            "_dom_classes": [],
            "_model_module": "@jupyter-widgets/controls",
            "_model_module_version": "1.5.0",
            "_model_name": "HBoxModel",
            "_view_count": null,
            "_view_module": "@jupyter-widgets/controls",
            "_view_module_version": "1.5.0",
            "_view_name": "HBoxView",
            "box_style": "",
            "children": [
              "IPY_MODEL_67f4a34153604ba8aebd7b4f9dd25ae2",
              "IPY_MODEL_ee9e28b3cdb84a90ab41aedc25813905",
              "IPY_MODEL_5496c32e5653451ca5d077fdbcd36246"
            ],
            "layout": "IPY_MODEL_f910f8b0743d4f02b53e1572a4da4a08"
          }
        },
        "67f4a34153604ba8aebd7b4f9dd25ae2": {
          "model_module": "@jupyter-widgets/controls",
          "model_name": "HTMLModel",
          "model_module_version": "1.5.0",
          "state": {
            "_dom_classes": [],
            "_model_module": "@jupyter-widgets/controls",
            "_model_module_version": "1.5.0",
            "_model_name": "HTMLModel",
            "_view_count": null,
            "_view_module": "@jupyter-widgets/controls",
            "_view_module_version": "1.5.0",
            "_view_name": "HTMLView",
            "description": "",
            "description_tooltip": null,
            "layout": "IPY_MODEL_d53e9c75700d4ce6b666a257b0ae44c7",
            "placeholder": "​",
            "style": "IPY_MODEL_1f747374521647cd8bc75684c815778c",
            "value": "Processing: 100%"
          }
        },
        "ee9e28b3cdb84a90ab41aedc25813905": {
          "model_module": "@jupyter-widgets/controls",
          "model_name": "FloatProgressModel",
          "model_module_version": "1.5.0",
          "state": {
            "_dom_classes": [],
            "_model_module": "@jupyter-widgets/controls",
            "_model_module_version": "1.5.0",
            "_model_name": "FloatProgressModel",
            "_view_count": null,
            "_view_module": "@jupyter-widgets/controls",
            "_view_module_version": "1.5.0",
            "_view_name": "ProgressView",
            "bar_style": "",
            "description": "",
            "description_tooltip": null,
            "layout": "IPY_MODEL_d23b979d6f66480db880b56e30f2041a",
            "max": 69,
            "min": 0,
            "orientation": "horizontal",
            "style": "IPY_MODEL_f4f24890df314d189873b46d392d3657",
            "value": 69
          }
        },
        "5496c32e5653451ca5d077fdbcd36246": {
          "model_module": "@jupyter-widgets/controls",
          "model_name": "HTMLModel",
          "model_module_version": "1.5.0",
          "state": {
            "_dom_classes": [],
            "_model_module": "@jupyter-widgets/controls",
            "_model_module_version": "1.5.0",
            "_model_name": "HTMLModel",
            "_view_count": null,
            "_view_module": "@jupyter-widgets/controls",
            "_view_module_version": "1.5.0",
            "_view_name": "HTMLView",
            "description": "",
            "description_tooltip": null,
            "layout": "IPY_MODEL_c60a5e3e97204f8484e3b079f66912bd",
            "placeholder": "​",
            "style": "IPY_MODEL_3fd1753f6a1a437fbb784bb34ff938f7",
            "value": " 69/69 [09:38&lt;00:00,  8.12s/it]"
          }
        },
        "f910f8b0743d4f02b53e1572a4da4a08": {
          "model_module": "@jupyter-widgets/base",
          "model_name": "LayoutModel",
          "model_module_version": "1.2.0",
          "state": {
            "_model_module": "@jupyter-widgets/base",
            "_model_module_version": "1.2.0",
            "_model_name": "LayoutModel",
            "_view_count": null,
            "_view_module": "@jupyter-widgets/base",
            "_view_module_version": "1.2.0",
            "_view_name": "LayoutView",
            "align_content": null,
            "align_items": null,
            "align_self": null,
            "border": null,
            "bottom": null,
            "display": null,
            "flex": null,
            "flex_flow": null,
            "grid_area": null,
            "grid_auto_columns": null,
            "grid_auto_flow": null,
            "grid_auto_rows": null,
            "grid_column": null,
            "grid_gap": null,
            "grid_row": null,
            "grid_template_areas": null,
            "grid_template_columns": null,
            "grid_template_rows": null,
            "height": null,
            "justify_content": null,
            "justify_items": null,
            "left": null,
            "margin": null,
            "max_height": null,
            "max_width": null,
            "min_height": null,
            "min_width": null,
            "object_fit": null,
            "object_position": null,
            "order": null,
            "overflow": null,
            "overflow_x": null,
            "overflow_y": null,
            "padding": null,
            "right": null,
            "top": null,
            "visibility": "hidden",
            "width": null
          }
        },
        "d53e9c75700d4ce6b666a257b0ae44c7": {
          "model_module": "@jupyter-widgets/base",
          "model_name": "LayoutModel",
          "model_module_version": "1.2.0",
          "state": {
            "_model_module": "@jupyter-widgets/base",
            "_model_module_version": "1.2.0",
            "_model_name": "LayoutModel",
            "_view_count": null,
            "_view_module": "@jupyter-widgets/base",
            "_view_module_version": "1.2.0",
            "_view_name": "LayoutView",
            "align_content": null,
            "align_items": null,
            "align_self": null,
            "border": null,
            "bottom": null,
            "display": null,
            "flex": null,
            "flex_flow": null,
            "grid_area": null,
            "grid_auto_columns": null,
            "grid_auto_flow": null,
            "grid_auto_rows": null,
            "grid_column": null,
            "grid_gap": null,
            "grid_row": null,
            "grid_template_areas": null,
            "grid_template_columns": null,
            "grid_template_rows": null,
            "height": null,
            "justify_content": null,
            "justify_items": null,
            "left": null,
            "margin": null,
            "max_height": null,
            "max_width": null,
            "min_height": null,
            "min_width": null,
            "object_fit": null,
            "object_position": null,
            "order": null,
            "overflow": null,
            "overflow_x": null,
            "overflow_y": null,
            "padding": null,
            "right": null,
            "top": null,
            "visibility": null,
            "width": null
          }
        },
        "1f747374521647cd8bc75684c815778c": {
          "model_module": "@jupyter-widgets/controls",
          "model_name": "DescriptionStyleModel",
          "model_module_version": "1.5.0",
          "state": {
            "_model_module": "@jupyter-widgets/controls",
            "_model_module_version": "1.5.0",
            "_model_name": "DescriptionStyleModel",
            "_view_count": null,
            "_view_module": "@jupyter-widgets/base",
            "_view_module_version": "1.2.0",
            "_view_name": "StyleView",
            "description_width": ""
          }
        },
        "d23b979d6f66480db880b56e30f2041a": {
          "model_module": "@jupyter-widgets/base",
          "model_name": "LayoutModel",
          "model_module_version": "1.2.0",
          "state": {
            "_model_module": "@jupyter-widgets/base",
            "_model_module_version": "1.2.0",
            "_model_name": "LayoutModel",
            "_view_count": null,
            "_view_module": "@jupyter-widgets/base",
            "_view_module_version": "1.2.0",
            "_view_name": "LayoutView",
            "align_content": null,
            "align_items": null,
            "align_self": null,
            "border": null,
            "bottom": null,
            "display": null,
            "flex": null,
            "flex_flow": null,
            "grid_area": null,
            "grid_auto_columns": null,
            "grid_auto_flow": null,
            "grid_auto_rows": null,
            "grid_column": null,
            "grid_gap": null,
            "grid_row": null,
            "grid_template_areas": null,
            "grid_template_columns": null,
            "grid_template_rows": null,
            "height": null,
            "justify_content": null,
            "justify_items": null,
            "left": null,
            "margin": null,
            "max_height": null,
            "max_width": null,
            "min_height": null,
            "min_width": null,
            "object_fit": null,
            "object_position": null,
            "order": null,
            "overflow": null,
            "overflow_x": null,
            "overflow_y": null,
            "padding": null,
            "right": null,
            "top": null,
            "visibility": null,
            "width": null
          }
        },
        "f4f24890df314d189873b46d392d3657": {
          "model_module": "@jupyter-widgets/controls",
          "model_name": "ProgressStyleModel",
          "model_module_version": "1.5.0",
          "state": {
            "_model_module": "@jupyter-widgets/controls",
            "_model_module_version": "1.5.0",
            "_model_name": "ProgressStyleModel",
            "_view_count": null,
            "_view_module": "@jupyter-widgets/base",
            "_view_module_version": "1.2.0",
            "_view_name": "StyleView",
            "bar_color": null,
            "description_width": ""
          }
        },
        "c60a5e3e97204f8484e3b079f66912bd": {
          "model_module": "@jupyter-widgets/base",
          "model_name": "LayoutModel",
          "model_module_version": "1.2.0",
          "state": {
            "_model_module": "@jupyter-widgets/base",
            "_model_module_version": "1.2.0",
            "_model_name": "LayoutModel",
            "_view_count": null,
            "_view_module": "@jupyter-widgets/base",
            "_view_module_version": "1.2.0",
            "_view_name": "LayoutView",
            "align_content": null,
            "align_items": null,
            "align_self": null,
            "border": null,
            "bottom": null,
            "display": null,
            "flex": null,
            "flex_flow": null,
            "grid_area": null,
            "grid_auto_columns": null,
            "grid_auto_flow": null,
            "grid_auto_rows": null,
            "grid_column": null,
            "grid_gap": null,
            "grid_row": null,
            "grid_template_areas": null,
            "grid_template_columns": null,
            "grid_template_rows": null,
            "height": null,
            "justify_content": null,
            "justify_items": null,
            "left": null,
            "margin": null,
            "max_height": null,
            "max_width": null,
            "min_height": null,
            "min_width": null,
            "object_fit": null,
            "object_position": null,
            "order": null,
            "overflow": null,
            "overflow_x": null,
            "overflow_y": null,
            "padding": null,
            "right": null,
            "top": null,
            "visibility": null,
            "width": null
          }
        },
        "3fd1753f6a1a437fbb784bb34ff938f7": {
          "model_module": "@jupyter-widgets/controls",
          "model_name": "DescriptionStyleModel",
          "model_module_version": "1.5.0",
          "state": {
            "_model_module": "@jupyter-widgets/controls",
            "_model_module_version": "1.5.0",
            "_model_name": "DescriptionStyleModel",
            "_view_count": null,
            "_view_module": "@jupyter-widgets/base",
            "_view_module_version": "1.2.0",
            "_view_name": "StyleView",
            "description_width": ""
          }
        },
        "242d7eafe69a4776920e9f6d5fbe006c": {
          "model_module": "@jupyter-widgets/controls",
          "model_name": "VBoxModel",
          "model_module_version": "1.5.0",
          "state": {
            "_dom_classes": [
              "widget-interact"
            ],
            "_model_module": "@jupyter-widgets/controls",
            "_model_module_version": "1.5.0",
            "_model_name": "VBoxModel",
            "_view_count": null,
            "_view_module": "@jupyter-widgets/controls",
            "_view_module_version": "1.5.0",
            "_view_name": "VBoxView",
            "box_style": "",
            "children": [
              "IPY_MODEL_a3023d21ca3b4c5fb996e0ea601cd469",
              "IPY_MODEL_f69776e4651f421996231a21a371cf1b"
            ],
            "layout": "IPY_MODEL_9791ad4c89a14bfdbd5ec1e10f3350c1"
          }
        },
        "a3023d21ca3b4c5fb996e0ea601cd469": {
          "model_module": "@jupyter-widgets/controls",
          "model_name": "ToggleButtonsModel",
          "model_module_version": "1.5.0",
          "state": {
            "_dom_classes": [],
            "_model_module": "@jupyter-widgets/controls",
            "_model_module_version": "1.5.0",
            "_model_name": "ToggleButtonsModel",
            "_options_labels": [
              "Pipeline Plot",
              "Hyperparameters",
              "AUC",
              "Confusion Matrix",
              "Threshold",
              "Precision Recall",
              "Prediction Error",
              "Class Report",
              "Feature Selection",
              "Learning Curve",
              "Manifold Learning",
              "Calibration Curve",
              "Validation Curve",
              "Dimensions",
              "Feature Importance",
              "Feature Importance (All)",
              "Decision Boundary",
              "Lift Chart",
              "Gain Chart",
              "Decision Tree",
              "KS Statistic Plot"
            ],
            "_view_count": null,
            "_view_module": "@jupyter-widgets/controls",
            "_view_module_version": "1.5.0",
            "_view_name": "ToggleButtonsView",
            "button_style": "",
            "description": "Plot Type:",
            "description_tooltip": null,
            "disabled": false,
            "icons": [
              ""
            ],
            "index": 0,
            "layout": "IPY_MODEL_80b0d3ae02344e87bbbb3235f0e6cc1c",
            "style": "IPY_MODEL_9bd22e2c9d4a4fe4ab3aca2b7065af23",
            "tooltips": []
          }
        },
        "f69776e4651f421996231a21a371cf1b": {
          "model_module": "@jupyter-widgets/output",
          "model_name": "OutputModel",
          "model_module_version": "1.0.0",
          "state": {
            "_dom_classes": [],
            "_model_module": "@jupyter-widgets/output",
            "_model_module_version": "1.0.0",
            "_model_name": "OutputModel",
            "_view_count": null,
            "_view_module": "@jupyter-widgets/output",
            "_view_module_version": "1.0.0",
            "_view_name": "OutputView",
            "layout": "IPY_MODEL_0d3462d2f10448bca3cc04391646c012",
            "msg_id": "",
            "outputs": [
              {
                "output_type": "display_data",
                "data": {
                  "text/plain": "<Figure size 2200x600 with 1 Axes>",
                  "image/png": "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\n"
                },
                "metadata": {}
              }
            ]
          }
        },
        "9791ad4c89a14bfdbd5ec1e10f3350c1": {
          "model_module": "@jupyter-widgets/base",
          "model_name": "LayoutModel",
          "model_module_version": "1.2.0",
          "state": {
            "_model_module": "@jupyter-widgets/base",
            "_model_module_version": "1.2.0",
            "_model_name": "LayoutModel",
            "_view_count": null,
            "_view_module": "@jupyter-widgets/base",
            "_view_module_version": "1.2.0",
            "_view_name": "LayoutView",
            "align_content": null,
            "align_items": null,
            "align_self": null,
            "border": null,
            "bottom": null,
            "display": null,
            "flex": null,
            "flex_flow": null,
            "grid_area": null,
            "grid_auto_columns": null,
            "grid_auto_flow": null,
            "grid_auto_rows": null,
            "grid_column": null,
            "grid_gap": null,
            "grid_row": null,
            "grid_template_areas": null,
            "grid_template_columns": null,
            "grid_template_rows": null,
            "height": null,
            "justify_content": null,
            "justify_items": null,
            "left": null,
            "margin": null,
            "max_height": null,
            "max_width": null,
            "min_height": null,
            "min_width": null,
            "object_fit": null,
            "object_position": null,
            "order": null,
            "overflow": null,
            "overflow_x": null,
            "overflow_y": null,
            "padding": null,
            "right": null,
            "top": null,
            "visibility": null,
            "width": null
          }
        },
        "80b0d3ae02344e87bbbb3235f0e6cc1c": {
          "model_module": "@jupyter-widgets/base",
          "model_name": "LayoutModel",
          "model_module_version": "1.2.0",
          "state": {
            "_model_module": "@jupyter-widgets/base",
            "_model_module_version": "1.2.0",
            "_model_name": "LayoutModel",
            "_view_count": null,
            "_view_module": "@jupyter-widgets/base",
            "_view_module_version": "1.2.0",
            "_view_name": "LayoutView",
            "align_content": null,
            "align_items": null,
            "align_self": null,
            "border": null,
            "bottom": null,
            "display": null,
            "flex": null,
            "flex_flow": null,
            "grid_area": null,
            "grid_auto_columns": null,
            "grid_auto_flow": null,
            "grid_auto_rows": null,
            "grid_column": null,
            "grid_gap": null,
            "grid_row": null,
            "grid_template_areas": null,
            "grid_template_columns": null,
            "grid_template_rows": null,
            "height": null,
            "justify_content": null,
            "justify_items": null,
            "left": null,
            "margin": null,
            "max_height": null,
            "max_width": null,
            "min_height": null,
            "min_width": null,
            "object_fit": null,
            "object_position": null,
            "order": null,
            "overflow": null,
            "overflow_x": null,
            "overflow_y": null,
            "padding": null,
            "right": null,
            "top": null,
            "visibility": null,
            "width": null
          }
        },
        "9bd22e2c9d4a4fe4ab3aca2b7065af23": {
          "model_module": "@jupyter-widgets/controls",
          "model_name": "ToggleButtonsStyleModel",
          "model_module_version": "1.5.0",
          "state": {
            "_model_module": "@jupyter-widgets/controls",
            "_model_module_version": "1.5.0",
            "_model_name": "ToggleButtonsStyleModel",
            "_view_count": null,
            "_view_module": "@jupyter-widgets/base",
            "_view_module_version": "1.2.0",
            "_view_name": "StyleView",
            "button_width": "",
            "description_width": "",
            "font_weight": ""
          }
        },
        "0d3462d2f10448bca3cc04391646c012": {
          "model_module": "@jupyter-widgets/base",
          "model_name": "LayoutModel",
          "model_module_version": "1.2.0",
          "state": {
            "_model_module": "@jupyter-widgets/base",
            "_model_module_version": "1.2.0",
            "_model_name": "LayoutModel",
            "_view_count": null,
            "_view_module": "@jupyter-widgets/base",
            "_view_module_version": "1.2.0",
            "_view_name": "LayoutView",
            "align_content": null,
            "align_items": null,
            "align_self": null,
            "border": null,
            "bottom": null,
            "display": null,
            "flex": null,
            "flex_flow": null,
            "grid_area": null,
            "grid_auto_columns": null,
            "grid_auto_flow": null,
            "grid_auto_rows": null,
            "grid_column": null,
            "grid_gap": null,
            "grid_row": null,
            "grid_template_areas": null,
            "grid_template_columns": null,
            "grid_template_rows": null,
            "height": null,
            "justify_content": null,
            "justify_items": null,
            "left": null,
            "margin": null,
            "max_height": null,
            "max_width": null,
            "min_height": null,
            "min_width": null,
            "object_fit": null,
            "object_position": null,
            "order": null,
            "overflow": null,
            "overflow_x": null,
            "overflow_y": null,
            "padding": null,
            "right": null,
            "top": null,
            "visibility": null,
            "width": null
          }
        },
        "e44b34d7f49f4dd1a859b4961af227de": {
          "model_module": "@jupyter-widgets/controls",
          "model_name": "HBoxModel",
          "model_module_version": "1.5.0",
          "state": {
            "_dom_classes": [],
            "_model_module": "@jupyter-widgets/controls",
            "_model_module_version": "1.5.0",
            "_model_name": "HBoxModel",
            "_view_count": null,
            "_view_module": "@jupyter-widgets/controls",
            "_view_module_version": "1.5.0",
            "_view_name": "HBoxView",
            "box_style": "",
            "children": [
              "IPY_MODEL_7e282fc6325c4e1f80dd2dcb3c995c06",
              "IPY_MODEL_2e2206de9e9c4af2a9efefc256210986",
              "IPY_MODEL_c437042ae4d24ff0a72c76974be18e42"
            ],
            "layout": "IPY_MODEL_cbe77f10a7234c33a464d5203e8323b0"
          }
        },
        "7e282fc6325c4e1f80dd2dcb3c995c06": {
          "model_module": "@jupyter-widgets/controls",
          "model_name": "HTMLModel",
          "model_module_version": "1.5.0",
          "state": {
            "_dom_classes": [],
            "_model_module": "@jupyter-widgets/controls",
            "_model_module_version": "1.5.0",
            "_model_name": "HTMLModel",
            "_view_count": null,
            "_view_module": "@jupyter-widgets/controls",
            "_view_module_version": "1.5.0",
            "_view_name": "HTMLView",
            "description": "",
            "description_tooltip": null,
            "layout": "IPY_MODEL_3d20a97086044edfa3c5144292bd61f9",
            "placeholder": "​",
            "style": "IPY_MODEL_de87ca34862e4b0fb5d51d2819981a89",
            "value": "Processing: 100%"
          }
        },
        "2e2206de9e9c4af2a9efefc256210986": {
          "model_module": "@jupyter-widgets/controls",
          "model_name": "FloatProgressModel",
          "model_module_version": "1.5.0",
          "state": {
            "_dom_classes": [],
            "_model_module": "@jupyter-widgets/controls",
            "_model_module_version": "1.5.0",
            "_model_name": "FloatProgressModel",
            "_view_count": null,
            "_view_module": "@jupyter-widgets/controls",
            "_view_module_version": "1.5.0",
            "_view_name": "ProgressView",
            "bar_style": "",
            "description": "",
            "description_tooltip": null,
            "layout": "IPY_MODEL_350768a7356e4225800a6bf4a6515751",
            "max": 4,
            "min": 0,
            "orientation": "horizontal",
            "style": "IPY_MODEL_fd2308f8de5c49138f5f557d06320b59",
            "value": 4
          }
        },
        "c437042ae4d24ff0a72c76974be18e42": {
          "model_module": "@jupyter-widgets/controls",
          "model_name": "HTMLModel",
          "model_module_version": "1.5.0",
          "state": {
            "_dom_classes": [],
            "_model_module": "@jupyter-widgets/controls",
            "_model_module_version": "1.5.0",
            "_model_name": "HTMLModel",
            "_view_count": null,
            "_view_module": "@jupyter-widgets/controls",
            "_view_module_version": "1.5.0",
            "_view_name": "HTMLView",
            "description": "",
            "description_tooltip": null,
            "layout": "IPY_MODEL_3e04b5a85b7c4c0283f948639c1e4a3f",
            "placeholder": "​",
            "style": "IPY_MODEL_415abe6d32f846098605b1c820d75bfa",
            "value": " 4/4 [00:17&lt;00:00,  3.98s/it]"
          }
        },
        "cbe77f10a7234c33a464d5203e8323b0": {
          "model_module": "@jupyter-widgets/base",
          "model_name": "LayoutModel",
          "model_module_version": "1.2.0",
          "state": {
            "_model_module": "@jupyter-widgets/base",
            "_model_module_version": "1.2.0",
            "_model_name": "LayoutModel",
            "_view_count": null,
            "_view_module": "@jupyter-widgets/base",
            "_view_module_version": "1.2.0",
            "_view_name": "LayoutView",
            "align_content": null,
            "align_items": null,
            "align_self": null,
            "border": null,
            "bottom": null,
            "display": null,
            "flex": null,
            "flex_flow": null,
            "grid_area": null,
            "grid_auto_columns": null,
            "grid_auto_flow": null,
            "grid_auto_rows": null,
            "grid_column": null,
            "grid_gap": null,
            "grid_row": null,
            "grid_template_areas": null,
            "grid_template_columns": null,
            "grid_template_rows": null,
            "height": null,
            "justify_content": null,
            "justify_items": null,
            "left": null,
            "margin": null,
            "max_height": null,
            "max_width": null,
            "min_height": null,
            "min_width": null,
            "object_fit": null,
            "object_position": null,
            "order": null,
            "overflow": null,
            "overflow_x": null,
            "overflow_y": null,
            "padding": null,
            "right": null,
            "top": null,
            "visibility": "hidden",
            "width": null
          }
        },
        "3d20a97086044edfa3c5144292bd61f9": {
          "model_module": "@jupyter-widgets/base",
          "model_name": "LayoutModel",
          "model_module_version": "1.2.0",
          "state": {
            "_model_module": "@jupyter-widgets/base",
            "_model_module_version": "1.2.0",
            "_model_name": "LayoutModel",
            "_view_count": null,
            "_view_module": "@jupyter-widgets/base",
            "_view_module_version": "1.2.0",
            "_view_name": "LayoutView",
            "align_content": null,
            "align_items": null,
            "align_self": null,
            "border": null,
            "bottom": null,
            "display": null,
            "flex": null,
            "flex_flow": null,
            "grid_area": null,
            "grid_auto_columns": null,
            "grid_auto_flow": null,
            "grid_auto_rows": null,
            "grid_column": null,
            "grid_gap": null,
            "grid_row": null,
            "grid_template_areas": null,
            "grid_template_columns": null,
            "grid_template_rows": null,
            "height": null,
            "justify_content": null,
            "justify_items": null,
            "left": null,
            "margin": null,
            "max_height": null,
            "max_width": null,
            "min_height": null,
            "min_width": null,
            "object_fit": null,
            "object_position": null,
            "order": null,
            "overflow": null,
            "overflow_x": null,
            "overflow_y": null,
            "padding": null,
            "right": null,
            "top": null,
            "visibility": null,
            "width": null
          }
        },
        "de87ca34862e4b0fb5d51d2819981a89": {
          "model_module": "@jupyter-widgets/controls",
          "model_name": "DescriptionStyleModel",
          "model_module_version": "1.5.0",
          "state": {
            "_model_module": "@jupyter-widgets/controls",
            "_model_module_version": "1.5.0",
            "_model_name": "DescriptionStyleModel",
            "_view_count": null,
            "_view_module": "@jupyter-widgets/base",
            "_view_module_version": "1.2.0",
            "_view_name": "StyleView",
            "description_width": ""
          }
        },
        "350768a7356e4225800a6bf4a6515751": {
          "model_module": "@jupyter-widgets/base",
          "model_name": "LayoutModel",
          "model_module_version": "1.2.0",
          "state": {
            "_model_module": "@jupyter-widgets/base",
            "_model_module_version": "1.2.0",
            "_model_name": "LayoutModel",
            "_view_count": null,
            "_view_module": "@jupyter-widgets/base",
            "_view_module_version": "1.2.0",
            "_view_name": "LayoutView",
            "align_content": null,
            "align_items": null,
            "align_self": null,
            "border": null,
            "bottom": null,
            "display": null,
            "flex": null,
            "flex_flow": null,
            "grid_area": null,
            "grid_auto_columns": null,
            "grid_auto_flow": null,
            "grid_auto_rows": null,
            "grid_column": null,
            "grid_gap": null,
            "grid_row": null,
            "grid_template_areas": null,
            "grid_template_columns": null,
            "grid_template_rows": null,
            "height": null,
            "justify_content": null,
            "justify_items": null,
            "left": null,
            "margin": null,
            "max_height": null,
            "max_width": null,
            "min_height": null,
            "min_width": null,
            "object_fit": null,
            "object_position": null,
            "order": null,
            "overflow": null,
            "overflow_x": null,
            "overflow_y": null,
            "padding": null,
            "right": null,
            "top": null,
            "visibility": null,
            "width": null
          }
        },
        "fd2308f8de5c49138f5f557d06320b59": {
          "model_module": "@jupyter-widgets/controls",
          "model_name": "ProgressStyleModel",
          "model_module_version": "1.5.0",
          "state": {
            "_model_module": "@jupyter-widgets/controls",
            "_model_module_version": "1.5.0",
            "_model_name": "ProgressStyleModel",
            "_view_count": null,
            "_view_module": "@jupyter-widgets/base",
            "_view_module_version": "1.2.0",
            "_view_name": "StyleView",
            "bar_color": null,
            "description_width": ""
          }
        },
        "3e04b5a85b7c4c0283f948639c1e4a3f": {
          "model_module": "@jupyter-widgets/base",
          "model_name": "LayoutModel",
          "model_module_version": "1.2.0",
          "state": {
            "_model_module": "@jupyter-widgets/base",
            "_model_module_version": "1.2.0",
            "_model_name": "LayoutModel",
            "_view_count": null,
            "_view_module": "@jupyter-widgets/base",
            "_view_module_version": "1.2.0",
            "_view_name": "LayoutView",
            "align_content": null,
            "align_items": null,
            "align_self": null,
            "border": null,
            "bottom": null,
            "display": null,
            "flex": null,
            "flex_flow": null,
            "grid_area": null,
            "grid_auto_columns": null,
            "grid_auto_flow": null,
            "grid_auto_rows": null,
            "grid_column": null,
            "grid_gap": null,
            "grid_row": null,
            "grid_template_areas": null,
            "grid_template_columns": null,
            "grid_template_rows": null,
            "height": null,
            "justify_content": null,
            "justify_items": null,
            "left": null,
            "margin": null,
            "max_height": null,
            "max_width": null,
            "min_height": null,
            "min_width": null,
            "object_fit": null,
            "object_position": null,
            "order": null,
            "overflow": null,
            "overflow_x": null,
            "overflow_y": null,
            "padding": null,
            "right": null,
            "top": null,
            "visibility": null,
            "width": null
          }
        },
        "415abe6d32f846098605b1c820d75bfa": {
          "model_module": "@jupyter-widgets/controls",
          "model_name": "DescriptionStyleModel",
          "model_module_version": "1.5.0",
          "state": {
            "_model_module": "@jupyter-widgets/controls",
            "_model_module_version": "1.5.0",
            "_model_name": "DescriptionStyleModel",
            "_view_count": null,
            "_view_module": "@jupyter-widgets/base",
            "_view_module_version": "1.2.0",
            "_view_name": "StyleView",
            "description_width": ""
          }
        }
      }
    }
  },
  "cells": [
    {
      "cell_type": "markdown",
      "metadata": {
        "id": "view-in-github",
        "colab_type": "text"
      },
      "source": [
        "<a href=\"https://colab.research.google.com/github/tejas2545/credit-card-fraud-detection/blob/main/Enhancing_Credit_Card_Fraud_Detection_Using_AutoML_and_AGI_Concepts.ipynb\" target=\"_parent\"><img src=\"https://colab.research.google.com/assets/colab-badge.svg\" alt=\"Open In Colab\"/></a>"
      ]
    },
    {
      "cell_type": "markdown",
      "source": [
        "<h1 style=\"text-align: center;font-size: 40px;\">Enhancing Credit Card Fraud Detection Using AutoML and AGI Concepts</h1>\n",
        "\n",
        "## GROUP-ASSIGNMENT-2\n",
        "### **Team Members:**  \n",
        "###  Tejaskumar Sanjaykumar Patel (200575242)\n",
        "###  Chintan Chauhan  (200564227)\n",
        "###  Priyank Bhaveshbhai Siddhapura (200544911)  \n",
        "###  John Hanok (200573253)\n",
        "\n",
        "## 🔍 Problem Statement & Solution\n",
        "Credit card fraud is a growing issue in online banking and e-commerce, often hidden within large volumes of legitimate transactions. To address this, we built an AutoML-based fraud detection system using the MLJAR framework. Our model automatically selects and tunes the best algorithms to classify transactions as fraudulent or not. Inspired by three research papers, our approach focuses on handling data imbalance and optimizing precision and recall rather than just accuracy, making the system more effective in real-world fraud scenarios.\n",
        "\n",
        "\n",
        "---\n",
        "\n",
        "## 🧩 Issues Faced & Resolutions\n",
        "## 💡 Our Solution\n",
        "We implemented an AutoML-based pipeline using **PyCaret**, addressing the key concern raised in Assignment 2 feedback: **our model's inability to detect fraud despite high overall accuracy**. In this final phase, we:\n",
        "- Focused on F1-score and precision-recall AUC\n",
        "- Implemented **SMOTE** for better balance\n",
        "- Refined model selection and configuration\n",
        "- Visualized outcomes clearly and added AGI enhancements\n",
        "\n",
        "---\n",
        "\n",
        "## 🔄 From Prototype to Now\n",
        "\n",
        "In Assignment 2, we built a basic AutoML pipeline using PyCaret, which achieved high overall accuracy but failed to detect fraud cases effectively. Since then, we've significantly enhanced the solution based on both model evaluation feedback and conceptual improvement goals.\n",
        "\n",
        "### ✅ Key Improvements Made Since Prototype:\n",
        "\n",
        "- **Threshold Optimization**: We enabled `optimize_threshold=True` to find the best probability threshold for classification, improving detection of fraudulent cases while reducing false positives.\n",
        "\n",
        "- **Ensemble Learning**: Added `train_ensemble=True` in PyCaret to build more robust and generalizable models by combining multiple learners (e.g., Bagging, Boosting).\n",
        "\n",
        "- **Feature Reduction**: Using feature importance rankings from PyCaret, we removed less relevant variables and reduced model complexity, improving interpretability and training time.\n",
        "\n",
        "- **Class Imbalance Handling**: Applied **SMOTE (Synthetic Minority Oversampling Technique)** to balance the classes before passing them to PyCaret, ensuring the model isn't biased toward non-fraud cases.\n",
        "\n",
        "- **Evaluation Strategy Shift**: Switched from evaluating based on accuracy to **F1-score**, **PR-AUC**, and **confusion matrix**, which are more appropriate for imbalanced classification tasks.\n",
        "\n",
        "- **Conceptual Enhancement**: Integrated the idea of **Artificial General Intelligence (AGI)** as a future-proof direction to build fraud detection systems that adapt and learn like human intelligence.\n",
        "\n",
        "These changes represent our transition from a basic working prototype to a fine-tuned, real-world-ready fraud detection pipeline using AutoML.\n",
        "---\n",
        "## 🌎 Real-World Value\n",
        "This model, when integrated into real-time transaction systems, can prevent millions in losses. It can trigger alerts for unusual patterns and reduce false positives compared to rigid rule-based systems."
      ],
      "metadata": {
        "id": "QYbNh0jDT-N5"
      }
    },
    {
      "cell_type": "markdown",
      "source": [
        "# **Step 1: Importing Required Libraries**"
      ],
      "metadata": {
        "id": "uFgqluhJU3BS"
      }
    },
    {
      "cell_type": "code",
      "source": [
        "!pip install --pre pycaret[full] --extra-index-url https://pypi.org/simple --upgrade --quiet\n"
      ],
      "metadata": {
        "colab": {
          "base_uri": "https://localhost:8080/"
        },
        "id": "aig4lPsnU6D1",
        "outputId": "9d3d86b0-acc5-423e-daa6-96c09983c3eb"
      },
      "execution_count": 1,
      "outputs": [
        {
          "output_type": "stream",
          "name": "stdout",
          "text": [
            "\u001b[31mERROR: pip's dependency resolver does not currently take into account all the packages that are installed. This behaviour is the source of the following dependency conflicts.\n",
            "google-colab 1.0.0 requires pandas==2.2.2, but you have pandas 2.1.4 which is incompatible.\n",
            "thinc 8.3.6 requires numpy<3.0.0,>=2.0.0, but you have numpy 1.26.4 which is incompatible.\n",
            "mizani 0.13.2 requires pandas>=2.2.0, but you have pandas 2.1.4 which is incompatible.\n",
            "plotnine 0.14.5 requires matplotlib>=3.8.0, but you have matplotlib 3.7.5 which is incompatible.\n",
            "plotnine 0.14.5 requires pandas>=2.2.0, but you have pandas 2.1.4 which is incompatible.\u001b[0m\u001b[31m\n",
            "\u001b[0m"
          ]
        }
      ]
    },
    {
      "cell_type": "code",
      "source": [
        "!pip install numpy==1.23.5 --force-reinstall --quiet\n"
      ],
      "metadata": {
        "colab": {
          "base_uri": "https://localhost:8080/"
        },
        "id": "S20DPYnuVMRp",
        "outputId": "8ae1c124-c2f1-401c-95a8-04e8ceb3863d"
      },
      "execution_count": 2,
      "outputs": [
        {
          "output_type": "stream",
          "name": "stdout",
          "text": [
            "\u001b[31mERROR: pip's dependency resolver does not currently take into account all the packages that are installed. This behaviour is the source of the following dependency conflicts.\n",
            "plotly-resampler 0.10.0 requires numpy>=1.24; python_version >= \"3.11\", but you have numpy 1.23.5 which is incompatible.\n",
            "interpret-core 0.6.10 requires numpy>=1.25, but you have numpy 1.23.5 which is incompatible.\n",
            "google-colab 1.0.0 requires pandas==2.2.2, but you have pandas 2.1.4 which is incompatible.\n",
            "blosc2 3.2.1 requires numpy>=1.26, but you have numpy 1.23.5 which is incompatible.\n",
            "jaxlib 0.5.1 requires numpy>=1.25, but you have numpy 1.23.5 which is incompatible.\n",
            "chex 0.1.89 requires numpy>=1.24.1, but you have numpy 1.23.5 which is incompatible.\n",
            "pymc 5.21.2 requires numpy>=1.25.0, but you have numpy 1.23.5 which is incompatible.\n",
            "bigframes 1.42.0 requires numpy>=1.24.0, but you have numpy 1.23.5 which is incompatible.\n",
            "jax 0.5.2 requires numpy>=1.25, but you have numpy 1.23.5 which is incompatible.\n",
            "scikit-image 0.25.2 requires numpy>=1.24, but you have numpy 1.23.5 which is incompatible.\n",
            "treescope 0.1.9 requires numpy>=1.25.2, but you have numpy 1.23.5 which is incompatible.\n",
            "thinc 8.3.6 requires numpy<3.0.0,>=2.0.0, but you have numpy 1.23.5 which is incompatible.\n",
            "tensorflow 2.18.0 requires numpy<2.1.0,>=1.26.0, but you have numpy 1.23.5 which is incompatible.\n",
            "imbalanced-learn 0.13.0 requires numpy<3,>=1.24.3, but you have numpy 1.23.5 which is incompatible.\n",
            "albumentations 2.0.5 requires numpy>=1.24.4, but you have numpy 1.23.5 which is incompatible.\n",
            "mizani 0.13.2 requires pandas>=2.2.0, but you have pandas 2.1.4 which is incompatible.\n",
            "albucore 0.0.23 requires numpy>=1.24.4, but you have numpy 1.23.5 which is incompatible.\n",
            "plotnine 0.14.5 requires matplotlib>=3.8.0, but you have matplotlib 3.7.5 which is incompatible.\n",
            "plotnine 0.14.5 requires pandas>=2.2.0, but you have pandas 2.1.4 which is incompatible.\n",
            "xarray 2025.1.2 requires numpy>=1.24, but you have numpy 1.23.5 which is incompatible.\u001b[0m\u001b[31m\n",
            "\u001b[0m"
          ]
        }
      ]
    },
    {
      "cell_type": "code",
      "source": [
        "import pandas as pd\n",
        "import numpy as np\n",
        "import seaborn as sns\n",
        "import matplotlib.pyplot as plt\n",
        "\n",
        "from pycaret.classification import *\n",
        "from imblearn.over_sampling import SMOTE\n",
        "from sklearn.model_selection import train_test_split\n"
      ],
      "metadata": {
        "colab": {
          "base_uri": "https://localhost:8080/"
        },
        "id": "D0A7tQSgcAWp",
        "outputId": "e052756a-c4f3-4edb-f9b5-2ec3e75cd402"
      },
      "execution_count": 3,
      "outputs": [
        {
          "output_type": "stream",
          "name": "stderr",
          "text": [
            "Exception ignored on calling ctypes callback function: <function ThreadpoolController._find_libraries_with_dl_iterate_phdr.<locals>.match_library_callback at 0x7d1ab297d4e0>\n",
            "Traceback (most recent call last):\n",
            "  File \"/usr/local/lib/python3.11/dist-packages/threadpoolctl.py\", line 1005, in match_library_callback\n",
            "    self._make_controller_from_path(filepath)\n",
            "  File \"/usr/local/lib/python3.11/dist-packages/threadpoolctl.py\", line 1187, in _make_controller_from_path\n",
            "    lib_controller = controller_class(\n",
            "                     ^^^^^^^^^^^^^^^^^\n",
            "  File \"/usr/local/lib/python3.11/dist-packages/threadpoolctl.py\", line 114, in __init__\n",
            "    self.dynlib = ctypes.CDLL(filepath, mode=_RTLD_NOLOAD)\n",
            "                  ^^^^^^^^^^^^^^^^^^^^^^^^^^^^^^^^^^^^^^^^\n",
            "  File \"/usr/lib/python3.11/ctypes/__init__.py\", line 376, in __init__\n",
            "    self._handle = _dlopen(self._name, mode)\n",
            "                   ^^^^^^^^^^^^^^^^^^^^^^^^^\n",
            "OSError: dlopen() error\n"
          ]
        }
      ]
    },
    {
      "cell_type": "markdown",
      "source": [
        "# **Step 2: Load and Explore Dataset**"
      ],
      "metadata": {
        "id": "6rGtw8whd26e"
      }
    },
    {
      "cell_type": "code",
      "source": [
        "# LoadDataset\n",
        "data = pd.read_csv(\"/content/credit_card_fraud_dataset.csv\")\n",
        "# ViewBasicInfo\n",
        "print(\"Shape of dataset:\", data.shape)\n",
        "print(\"\\nSample data:\")\n",
        "display(data.head())\n",
        "\n",
        "# CheckClassBalance\n",
        "sns.countplot(x='IsFraud', data=data)\n",
        "plt.title(\"Distribution of Fraud (1) and Non-Fraud (0)\")\n",
        "plt.show()\n"
      ],
      "metadata": {
        "colab": {
          "base_uri": "https://localhost:8080/",
          "height": 765
        },
        "id": "80DYPzdvcBMC",
        "outputId": "07fc010b-77e4-44b8-9feb-fd3c62e7a13b"
      },
      "execution_count": 4,
      "outputs": [
        {
          "output_type": "stream",
          "name": "stdout",
          "text": [
            "Shape of dataset: (100000, 7)\n",
            "\n",
            "Sample data:\n"
          ]
        },
        {
          "output_type": "display_data",
          "data": {
            "text/plain": [
              "   TransactionID             TransactionDate   Amount  MerchantID  \\\n",
              "0              1  2024-04-03 14:15:35.462794  4189.27         688   \n",
              "1              2  2024-03-19 13:20:35.462824  2659.71         109   \n",
              "2              3  2024-01-08 10:08:35.462834   784.00         394   \n",
              "3              4  2024-04-13 23:50:35.462850  3514.40         944   \n",
              "4              5  2024-07-12 18:51:35.462858   369.07         475   \n",
              "\n",
              "  TransactionType      Location  IsFraud  \n",
              "0          refund   San Antonio        0  \n",
              "1          refund        Dallas        0  \n",
              "2        purchase      New York        0  \n",
              "3        purchase  Philadelphia        0  \n",
              "4        purchase       Phoenix        0  "
            ],
            "text/html": [
              "\n",
              "  <div id=\"df-6334ddd5-088a-4b36-86bd-4ad78eb5c23c\" class=\"colab-df-container\">\n",
              "    <div>\n",
              "<style scoped>\n",
              "    .dataframe tbody tr th:only-of-type {\n",
              "        vertical-align: middle;\n",
              "    }\n",
              "\n",
              "    .dataframe tbody tr th {\n",
              "        vertical-align: top;\n",
              "    }\n",
              "\n",
              "    .dataframe thead th {\n",
              "        text-align: right;\n",
              "    }\n",
              "</style>\n",
              "<table border=\"1\" class=\"dataframe\">\n",
              "  <thead>\n",
              "    <tr style=\"text-align: right;\">\n",
              "      <th></th>\n",
              "      <th>TransactionID</th>\n",
              "      <th>TransactionDate</th>\n",
              "      <th>Amount</th>\n",
              "      <th>MerchantID</th>\n",
              "      <th>TransactionType</th>\n",
              "      <th>Location</th>\n",
              "      <th>IsFraud</th>\n",
              "    </tr>\n",
              "  </thead>\n",
              "  <tbody>\n",
              "    <tr>\n",
              "      <th>0</th>\n",
              "      <td>1</td>\n",
              "      <td>2024-04-03 14:15:35.462794</td>\n",
              "      <td>4189.27</td>\n",
              "      <td>688</td>\n",
              "      <td>refund</td>\n",
              "      <td>San Antonio</td>\n",
              "      <td>0</td>\n",
              "    </tr>\n",
              "    <tr>\n",
              "      <th>1</th>\n",
              "      <td>2</td>\n",
              "      <td>2024-03-19 13:20:35.462824</td>\n",
              "      <td>2659.71</td>\n",
              "      <td>109</td>\n",
              "      <td>refund</td>\n",
              "      <td>Dallas</td>\n",
              "      <td>0</td>\n",
              "    </tr>\n",
              "    <tr>\n",
              "      <th>2</th>\n",
              "      <td>3</td>\n",
              "      <td>2024-01-08 10:08:35.462834</td>\n",
              "      <td>784.00</td>\n",
              "      <td>394</td>\n",
              "      <td>purchase</td>\n",
              "      <td>New York</td>\n",
              "      <td>0</td>\n",
              "    </tr>\n",
              "    <tr>\n",
              "      <th>3</th>\n",
              "      <td>4</td>\n",
              "      <td>2024-04-13 23:50:35.462850</td>\n",
              "      <td>3514.40</td>\n",
              "      <td>944</td>\n",
              "      <td>purchase</td>\n",
              "      <td>Philadelphia</td>\n",
              "      <td>0</td>\n",
              "    </tr>\n",
              "    <tr>\n",
              "      <th>4</th>\n",
              "      <td>5</td>\n",
              "      <td>2024-07-12 18:51:35.462858</td>\n",
              "      <td>369.07</td>\n",
              "      <td>475</td>\n",
              "      <td>purchase</td>\n",
              "      <td>Phoenix</td>\n",
              "      <td>0</td>\n",
              "    </tr>\n",
              "  </tbody>\n",
              "</table>\n",
              "</div>\n",
              "    <div class=\"colab-df-buttons\">\n",
              "\n",
              "  <div class=\"colab-df-container\">\n",
              "    <button class=\"colab-df-convert\" onclick=\"convertToInteractive('df-6334ddd5-088a-4b36-86bd-4ad78eb5c23c')\"\n",
              "            title=\"Convert this dataframe to an interactive table.\"\n",
              "            style=\"display:none;\">\n",
              "\n",
              "  <svg xmlns=\"http://www.w3.org/2000/svg\" height=\"24px\" viewBox=\"0 -960 960 960\">\n",
              "    <path d=\"M120-120v-720h720v720H120Zm60-500h600v-160H180v160Zm220 220h160v-160H400v160Zm0 220h160v-160H400v160ZM180-400h160v-160H180v160Zm440 0h160v-160H620v160ZM180-180h160v-160H180v160Zm440 0h160v-160H620v160Z\"/>\n",
              "  </svg>\n",
              "    </button>\n",
              "\n",
              "  <style>\n",
              "    .colab-df-container {\n",
              "      display:flex;\n",
              "      gap: 12px;\n",
              "    }\n",
              "\n",
              "    .colab-df-convert {\n",
              "      background-color: #E8F0FE;\n",
              "      border: none;\n",
              "      border-radius: 50%;\n",
              "      cursor: pointer;\n",
              "      display: none;\n",
              "      fill: #1967D2;\n",
              "      height: 32px;\n",
              "      padding: 0 0 0 0;\n",
              "      width: 32px;\n",
              "    }\n",
              "\n",
              "    .colab-df-convert:hover {\n",
              "      background-color: #E2EBFA;\n",
              "      box-shadow: 0px 1px 2px rgba(60, 64, 67, 0.3), 0px 1px 3px 1px rgba(60, 64, 67, 0.15);\n",
              "      fill: #174EA6;\n",
              "    }\n",
              "\n",
              "    .colab-df-buttons div {\n",
              "      margin-bottom: 4px;\n",
              "    }\n",
              "\n",
              "    [theme=dark] .colab-df-convert {\n",
              "      background-color: #3B4455;\n",
              "      fill: #D2E3FC;\n",
              "    }\n",
              "\n",
              "    [theme=dark] .colab-df-convert:hover {\n",
              "      background-color: #434B5C;\n",
              "      box-shadow: 0px 1px 3px 1px rgba(0, 0, 0, 0.15);\n",
              "      filter: drop-shadow(0px 1px 2px rgba(0, 0, 0, 0.3));\n",
              "      fill: #FFFFFF;\n",
              "    }\n",
              "  </style>\n",
              "\n",
              "    <script>\n",
              "      const buttonEl =\n",
              "        document.querySelector('#df-6334ddd5-088a-4b36-86bd-4ad78eb5c23c button.colab-df-convert');\n",
              "      buttonEl.style.display =\n",
              "        google.colab.kernel.accessAllowed ? 'block' : 'none';\n",
              "\n",
              "      async function convertToInteractive(key) {\n",
              "        const element = document.querySelector('#df-6334ddd5-088a-4b36-86bd-4ad78eb5c23c');\n",
              "        const dataTable =\n",
              "          await google.colab.kernel.invokeFunction('convertToInteractive',\n",
              "                                                    [key], {});\n",
              "        if (!dataTable) return;\n",
              "\n",
              "        const docLinkHtml = 'Like what you see? Visit the ' +\n",
              "          '<a target=\"_blank\" href=https://colab.research.google.com/notebooks/data_table.ipynb>data table notebook</a>'\n",
              "          + ' to learn more about interactive tables.';\n",
              "        element.innerHTML = '';\n",
              "        dataTable['output_type'] = 'display_data';\n",
              "        await google.colab.output.renderOutput(dataTable, element);\n",
              "        const docLink = document.createElement('div');\n",
              "        docLink.innerHTML = docLinkHtml;\n",
              "        element.appendChild(docLink);\n",
              "      }\n",
              "    </script>\n",
              "  </div>\n",
              "\n",
              "\n",
              "<div id=\"df-df7ec646-4056-4d89-a913-8dc09872e9e1\">\n",
              "  <button class=\"colab-df-quickchart\" onclick=\"quickchart('df-df7ec646-4056-4d89-a913-8dc09872e9e1')\"\n",
              "            title=\"Suggest charts\"\n",
              "            style=\"display:none;\">\n",
              "\n",
              "<svg xmlns=\"http://www.w3.org/2000/svg\" height=\"24px\"viewBox=\"0 0 24 24\"\n",
              "     width=\"24px\">\n",
              "    <g>\n",
              "        <path d=\"M19 3H5c-1.1 0-2 .9-2 2v14c0 1.1.9 2 2 2h14c1.1 0 2-.9 2-2V5c0-1.1-.9-2-2-2zM9 17H7v-7h2v7zm4 0h-2V7h2v10zm4 0h-2v-4h2v4z\"/>\n",
              "    </g>\n",
              "</svg>\n",
              "  </button>\n",
              "\n",
              "<style>\n",
              "  .colab-df-quickchart {\n",
              "      --bg-color: #E8F0FE;\n",
              "      --fill-color: #1967D2;\n",
              "      --hover-bg-color: #E2EBFA;\n",
              "      --hover-fill-color: #174EA6;\n",
              "      --disabled-fill-color: #AAA;\n",
              "      --disabled-bg-color: #DDD;\n",
              "  }\n",
              "\n",
              "  [theme=dark] .colab-df-quickchart {\n",
              "      --bg-color: #3B4455;\n",
              "      --fill-color: #D2E3FC;\n",
              "      --hover-bg-color: #434B5C;\n",
              "      --hover-fill-color: #FFFFFF;\n",
              "      --disabled-bg-color: #3B4455;\n",
              "      --disabled-fill-color: #666;\n",
              "  }\n",
              "\n",
              "  .colab-df-quickchart {\n",
              "    background-color: var(--bg-color);\n",
              "    border: none;\n",
              "    border-radius: 50%;\n",
              "    cursor: pointer;\n",
              "    display: none;\n",
              "    fill: var(--fill-color);\n",
              "    height: 32px;\n",
              "    padding: 0;\n",
              "    width: 32px;\n",
              "  }\n",
              "\n",
              "  .colab-df-quickchart:hover {\n",
              "    background-color: var(--hover-bg-color);\n",
              "    box-shadow: 0 1px 2px rgba(60, 64, 67, 0.3), 0 1px 3px 1px rgba(60, 64, 67, 0.15);\n",
              "    fill: var(--button-hover-fill-color);\n",
              "  }\n",
              "\n",
              "  .colab-df-quickchart-complete:disabled,\n",
              "  .colab-df-quickchart-complete:disabled:hover {\n",
              "    background-color: var(--disabled-bg-color);\n",
              "    fill: var(--disabled-fill-color);\n",
              "    box-shadow: none;\n",
              "  }\n",
              "\n",
              "  .colab-df-spinner {\n",
              "    border: 2px solid var(--fill-color);\n",
              "    border-color: transparent;\n",
              "    border-bottom-color: var(--fill-color);\n",
              "    animation:\n",
              "      spin 1s steps(1) infinite;\n",
              "  }\n",
              "\n",
              "  @keyframes spin {\n",
              "    0% {\n",
              "      border-color: transparent;\n",
              "      border-bottom-color: var(--fill-color);\n",
              "      border-left-color: var(--fill-color);\n",
              "    }\n",
              "    20% {\n",
              "      border-color: transparent;\n",
              "      border-left-color: var(--fill-color);\n",
              "      border-top-color: var(--fill-color);\n",
              "    }\n",
              "    30% {\n",
              "      border-color: transparent;\n",
              "      border-left-color: var(--fill-color);\n",
              "      border-top-color: var(--fill-color);\n",
              "      border-right-color: var(--fill-color);\n",
              "    }\n",
              "    40% {\n",
              "      border-color: transparent;\n",
              "      border-right-color: var(--fill-color);\n",
              "      border-top-color: var(--fill-color);\n",
              "    }\n",
              "    60% {\n",
              "      border-color: transparent;\n",
              "      border-right-color: var(--fill-color);\n",
              "    }\n",
              "    80% {\n",
              "      border-color: transparent;\n",
              "      border-right-color: var(--fill-color);\n",
              "      border-bottom-color: var(--fill-color);\n",
              "    }\n",
              "    90% {\n",
              "      border-color: transparent;\n",
              "      border-bottom-color: var(--fill-color);\n",
              "    }\n",
              "  }\n",
              "</style>\n",
              "\n",
              "  <script>\n",
              "    async function quickchart(key) {\n",
              "      const quickchartButtonEl =\n",
              "        document.querySelector('#' + key + ' button');\n",
              "      quickchartButtonEl.disabled = true;  // To prevent multiple clicks.\n",
              "      quickchartButtonEl.classList.add('colab-df-spinner');\n",
              "      try {\n",
              "        const charts = await google.colab.kernel.invokeFunction(\n",
              "            'suggestCharts', [key], {});\n",
              "      } catch (error) {\n",
              "        console.error('Error during call to suggestCharts:', error);\n",
              "      }\n",
              "      quickchartButtonEl.classList.remove('colab-df-spinner');\n",
              "      quickchartButtonEl.classList.add('colab-df-quickchart-complete');\n",
              "    }\n",
              "    (() => {\n",
              "      let quickchartButtonEl =\n",
              "        document.querySelector('#df-df7ec646-4056-4d89-a913-8dc09872e9e1 button');\n",
              "      quickchartButtonEl.style.display =\n",
              "        google.colab.kernel.accessAllowed ? 'block' : 'none';\n",
              "    })();\n",
              "  </script>\n",
              "</div>\n",
              "\n",
              "    </div>\n",
              "  </div>\n"
            ],
            "application/vnd.google.colaboratory.intrinsic+json": {
              "type": "dataframe",
              "summary": "{\n  \"name\": \"plt\",\n  \"rows\": 5,\n  \"fields\": [\n    {\n      \"column\": \"TransactionID\",\n      \"properties\": {\n        \"dtype\": \"number\",\n        \"std\": 1,\n        \"min\": 1,\n        \"max\": 5,\n        \"num_unique_values\": 5,\n        \"samples\": [\n          2,\n          5,\n          3\n        ],\n        \"semantic_type\": \"\",\n        \"description\": \"\"\n      }\n    },\n    {\n      \"column\": \"TransactionDate\",\n      \"properties\": {\n        \"dtype\": \"object\",\n        \"num_unique_values\": 5,\n        \"samples\": [\n          \"2024-03-19 13:20:35.462824\",\n          \"2024-07-12 18:51:35.462858\",\n          \"2024-01-08 10:08:35.462834\"\n        ],\n        \"semantic_type\": \"\",\n        \"description\": \"\"\n      }\n    },\n    {\n      \"column\": \"Amount\",\n      \"properties\": {\n        \"dtype\": \"number\",\n        \"std\": 1673.3344197589438,\n        \"min\": 369.07,\n        \"max\": 4189.27,\n        \"num_unique_values\": 5,\n        \"samples\": [\n          2659.71,\n          369.07,\n          784.0\n        ],\n        \"semantic_type\": \"\",\n        \"description\": \"\"\n      }\n    },\n    {\n      \"column\": \"MerchantID\",\n      \"properties\": {\n        \"dtype\": \"number\",\n        \"std\": 314,\n        \"min\": 109,\n        \"max\": 944,\n        \"num_unique_values\": 5,\n        \"samples\": [\n          109,\n          475,\n          394\n        ],\n        \"semantic_type\": \"\",\n        \"description\": \"\"\n      }\n    },\n    {\n      \"column\": \"TransactionType\",\n      \"properties\": {\n        \"dtype\": \"category\",\n        \"num_unique_values\": 2,\n        \"samples\": [\n          \"purchase\",\n          \"refund\"\n        ],\n        \"semantic_type\": \"\",\n        \"description\": \"\"\n      }\n    },\n    {\n      \"column\": \"Location\",\n      \"properties\": {\n        \"dtype\": \"string\",\n        \"num_unique_values\": 5,\n        \"samples\": [\n          \"Dallas\",\n          \"Phoenix\"\n        ],\n        \"semantic_type\": \"\",\n        \"description\": \"\"\n      }\n    },\n    {\n      \"column\": \"IsFraud\",\n      \"properties\": {\n        \"dtype\": \"number\",\n        \"std\": 0,\n        \"min\": 0,\n        \"max\": 0,\n        \"num_unique_values\": 1,\n        \"samples\": [\n          0\n        ],\n        \"semantic_type\": \"\",\n        \"description\": \"\"\n      }\n    }\n  ]\n}"
            }
          },
          "metadata": {}
        },
        {
          "output_type": "display_data",
          "data": {
            "text/plain": [
              "<Figure size 800x550 with 1 Axes>"
            ],
            "image/png": "[encoded data removed]"
          },
          "metadata": {}
        }
      ]
    },
    {
      "cell_type": "markdown",
      "source": [
        "# **Step 3: Apply SMOTE to Balance Dataset**"
      ],
      "metadata": {
        "id": "2a5YXx61d9nd"
      }
    },
    {
      "cell_type": "code",
      "source": [
        "# Make a copy so original remains untouched\n",
        "data_encoded = data.copy()\n",
        "\n",
        "# Drop TransactionDate (not usable directly in SMOTE)\n",
        "data_encoded = data_encoded.drop(columns=['TransactionDate', 'TransactionID'])\n",
        "\n",
        "# Encode categorical features\n",
        "data_encoded = pd.get_dummies(data_encoded, columns=['TransactionType', 'Location'], drop_first=True)\n",
        "\n",
        "# Separate X and y\n",
        "X = data_encoded.drop('IsFraud', axis=1)\n",
        "y = data_encoded['IsFraud']\n",
        "\n",
        "# Apply SMOTE\n",
        "from imblearn.over_sampling import SMOTE\n",
        "smote = SMOTE(random_state=42)\n",
        "X_resampled, y_resampled = smote.fit_resample(X, y)\n",
        "\n",
        "# Combine for PyCaret\n",
        "balanced_df = pd.concat([pd.DataFrame(X_resampled, columns=X.columns),\n",
        "                         pd.DataFrame(y_resampled, columns=['IsFraud'])], axis=1)\n",
        "\n",
        "# Visualize balance\n",
        "sns.countplot(x='IsFraud', data=balanced_df)\n",
        "plt.title(\"Balanced Class Distribution (After SMOTE)\")\n",
        "plt.show()\n"
      ],
      "metadata": {
        "colab": {
          "base_uri": "https://localhost:8080/",
          "height": 524
        },
        "id": "fj7Md976c9Pj",
        "outputId": "5e4aca91-4f14-47f7-d592-9c71afe863be"
      },
      "execution_count": 5,
      "outputs": [
        {
          "output_type": "display_data",
          "data": {
            "text/plain": [
              "<Figure size 800x550 with 1 Axes>"
            ],
            "image/png": "[encoded data removed]"
          },
          "metadata": {}
        }
      ]
    },
    {
      "cell_type": "markdown",
      "source": [
        "# **Step 4: Setup PyCaret AutoML with F1-score Focus**"
      ],
      "metadata": {
        "id": "HieVHp2ifK-X"
      }
    },
    {
      "cell_type": "code",
      "source": [
        "clf = setup(\n",
        "    data=balanced_df,\n",
        "    target='IsFraud',\n",
        "    session_id=42,\n",
        "    normalize=True,\n",
        "    use_gpu=False,\n",
        "    fold_strategy='stratifiedkfold',\n",
        "    fold=5\n",
        ")\n"
      ],
      "metadata": {
        "colab": {
          "base_uri": "https://localhost:8080/",
          "height": 708
        },
        "id": "zbHjgKPNerhD",
        "outputId": "6524880f-b446-4721-d998-e41d1317600c"
      },
      "execution_count": 6,
      "outputs": [
        {
          "output_type": "display_data",
          "data": {
            "text/plain": [
              "<pandas.io.formats.style.Styler at 0x7d1a8fc3c290>"
            ],
            "text/html": [
              "<style type=\"text/css\">\n",
              "#T_5e447_row8_col1, #T_5e447_row12_col1 {\n",
              "  background-color: lightgreen;\n",
              "}\n",
              "</style>\n",
              "<table id=\"T_5e447\" class=\"dataframe\">\n",
              "  <thead>\n",
              "    <tr>\n",
              "      <th class=\"blank level0\" >&nbsp;</th>\n",
              "      <th id=\"T_5e447_level0_col0\" class=\"col_heading level0 col0\" >Description</th>\n",
              "      <th id=\"T_5e447_level0_col1\" class=\"col_heading level0 col1\" >Value</th>\n",
              "    </tr>\n",
              "  </thead>\n",
              "  <tbody>\n",
              "    <tr>\n",
              "      <th id=\"T_5e447_level0_row0\" class=\"row_heading level0 row0\" >0</th>\n",
              "      <td id=\"T_5e447_row0_col0\" class=\"data row0 col0\" >Session id</td>\n",
              "      <td id=\"T_5e447_row0_col1\" class=\"data row0 col1\" >42</td>\n",
              "    </tr>\n",
              "    <tr>\n",
              "      <th id=\"T_5e447_level0_row1\" class=\"row_heading level0 row1\" >1</th>\n",
              "      <td id=\"T_5e447_row1_col0\" class=\"data row1 col0\" >Target</td>\n",
              "      <td id=\"T_5e447_row1_col1\" class=\"data row1 col1\" >IsFraud</td>\n",
              "    </tr>\n",
              "    <tr>\n",
              "      <th id=\"T_5e447_level0_row2\" class=\"row_heading level0 row2\" >2</th>\n",
              "      <td id=\"T_5e447_row2_col0\" class=\"data row2 col0\" >Target type</td>\n",
              "      <td id=\"T_5e447_row2_col1\" class=\"data row2 col1\" >Binary</td>\n",
              "    </tr>\n",
              "    <tr>\n",
              "      <th id=\"T_5e447_level0_row3\" class=\"row_heading level0 row3\" >3</th>\n",
              "      <td id=\"T_5e447_row3_col0\" class=\"data row3 col0\" >Original data shape</td>\n",
              "      <td id=\"T_5e447_row3_col1\" class=\"data row3 col1\" >(198000, 13)</td>\n",
              "    </tr>\n",
              "    <tr>\n",
              "      <th id=\"T_5e447_level0_row4\" class=\"row_heading level0 row4\" >4</th>\n",
              "      <td id=\"T_5e447_row4_col0\" class=\"data row4 col0\" >Transformed data shape</td>\n",
              "      <td id=\"T_5e447_row4_col1\" class=\"data row4 col1\" >(198000, 13)</td>\n",
              "    </tr>\n",
              "    <tr>\n",
              "      <th id=\"T_5e447_level0_row5\" class=\"row_heading level0 row5\" >5</th>\n",
              "      <td id=\"T_5e447_row5_col0\" class=\"data row5 col0\" >Transformed train set shape</td>\n",
              "      <td id=\"T_5e447_row5_col1\" class=\"data row5 col1\" >(138600, 13)</td>\n",
              "    </tr>\n",
              "    <tr>\n",
              "      <th id=\"T_5e447_level0_row6\" class=\"row_heading level0 row6\" >6</th>\n",
              "      <td id=\"T_5e447_row6_col0\" class=\"data row6 col0\" >Transformed test set shape</td>\n",
              "      <td id=\"T_5e447_row6_col1\" class=\"data row6 col1\" >(59400, 13)</td>\n",
              "    </tr>\n",
              "    <tr>\n",
              "      <th id=\"T_5e447_level0_row7\" class=\"row_heading level0 row7\" >7</th>\n",
              "      <td id=\"T_5e447_row7_col0\" class=\"data row7 col0\" >Numeric features</td>\n",
              "      <td id=\"T_5e447_row7_col1\" class=\"data row7 col1\" >2</td>\n",
              "    </tr>\n",
              "    <tr>\n",
              "      <th id=\"T_5e447_level0_row8\" class=\"row_heading level0 row8\" >8</th>\n",
              "      <td id=\"T_5e447_row8_col0\" class=\"data row8 col0\" >Preprocess</td>\n",
              "      <td id=\"T_5e447_row8_col1\" class=\"data row8 col1\" >True</td>\n",
              "    </tr>\n",
              "    <tr>\n",
              "      <th id=\"T_5e447_level0_row9\" class=\"row_heading level0 row9\" >9</th>\n",
              "      <td id=\"T_5e447_row9_col0\" class=\"data row9 col0\" >Imputation type</td>\n",
              "      <td id=\"T_5e447_row9_col1\" class=\"data row9 col1\" >simple</td>\n",
              "    </tr>\n",
              "    <tr>\n",
              "      <th id=\"T_5e447_level0_row10\" class=\"row_heading level0 row10\" >10</th>\n",
              "      <td id=\"T_5e447_row10_col0\" class=\"data row10 col0\" >Numeric imputation</td>\n",
              "      <td id=\"T_5e447_row10_col1\" class=\"data row10 col1\" >mean</td>\n",
              "    </tr>\n",
              "    <tr>\n",
              "      <th id=\"T_5e447_level0_row11\" class=\"row_heading level0 row11\" >11</th>\n",
              "      <td id=\"T_5e447_row11_col0\" class=\"data row11 col0\" >Categorical imputation</td>\n",
              "      <td id=\"T_5e447_row11_col1\" class=\"data row11 col1\" >mode</td>\n",
              "    </tr>\n",
              "    <tr>\n",
              "      <th id=\"T_5e447_level0_row12\" class=\"row_heading level0 row12\" >12</th>\n",
              "      <td id=\"T_5e447_row12_col0\" class=\"data row12 col0\" >Normalize</td>\n",
              "      <td id=\"T_5e447_row12_col1\" class=\"data row12 col1\" >True</td>\n",
              "    </tr>\n",
              "    <tr>\n",
              "      <th id=\"T_5e447_level0_row13\" class=\"row_heading level0 row13\" >13</th>\n",
              "      <td id=\"T_5e447_row13_col0\" class=\"data row13 col0\" >Normalize method</td>\n",
              "      <td id=\"T_5e447_row13_col1\" class=\"data row13 col1\" >zscore</td>\n",
              "    </tr>\n",
              "    <tr>\n",
              "      <th id=\"T_5e447_level0_row14\" class=\"row_heading level0 row14\" >14</th>\n",
              "      <td id=\"T_5e447_row14_col0\" class=\"data row14 col0\" >Fold Generator</td>\n",
              "      <td id=\"T_5e447_row14_col1\" class=\"data row14 col1\" >StratifiedKFold</td>\n",
              "    </tr>\n",
              "    <tr>\n",
              "      <th id=\"T_5e447_level0_row15\" class=\"row_heading level0 row15\" >15</th>\n",
              "      <td id=\"T_5e447_row15_col0\" class=\"data row15 col0\" >Fold Number</td>\n",
              "      <td id=\"T_5e447_row15_col1\" class=\"data row15 col1\" >5</td>\n",
              "    </tr>\n",
              "    <tr>\n",
              "      <th id=\"T_5e447_level0_row16\" class=\"row_heading level0 row16\" >16</th>\n",
              "      <td id=\"T_5e447_row16_col0\" class=\"data row16 col0\" >CPU Jobs</td>\n",
              "      <td id=\"T_5e447_row16_col1\" class=\"data row16 col1\" >-1</td>\n",
              "    </tr>\n",
              "    <tr>\n",
              "      <th id=\"T_5e447_level0_row17\" class=\"row_heading level0 row17\" >17</th>\n",
              "      <td id=\"T_5e447_row17_col0\" class=\"data row17 col0\" >Use GPU</td>\n",
              "      <td id=\"T_5e447_row17_col1\" class=\"data row17 col1\" >False</td>\n",
              "    </tr>\n",
              "    <tr>\n",
              "      <th id=\"T_5e447_level0_row18\" class=\"row_heading level0 row18\" >18</th>\n",
              "      <td id=\"T_5e447_row18_col0\" class=\"data row18 col0\" >Log Experiment</td>\n",
              "      <td id=\"T_5e447_row18_col1\" class=\"data row18 col1\" >False</td>\n",
              "    </tr>\n",
              "    <tr>\n",
              "      <th id=\"T_5e447_level0_row19\" class=\"row_heading level0 row19\" >19</th>\n",
              "      <td id=\"T_5e447_row19_col0\" class=\"data row19 col0\" >Experiment Name</td>\n",
              "      <td id=\"T_5e447_row19_col1\" class=\"data row19 col1\" >clf-default-name</td>\n",
              "    </tr>\n",
              "    <tr>\n",
              "      <th id=\"T_5e447_level0_row20\" class=\"row_heading level0 row20\" >20</th>\n",
              "      <td id=\"T_5e447_row20_col0\" class=\"data row20 col0\" >USI</td>\n",
              "      <td id=\"T_5e447_row20_col1\" class=\"data row20 col1\" >e3d8</td>\n",
              "    </tr>\n",
              "  </tbody>\n",
              "</table>\n"
            ]
          },
          "metadata": {}
        }
      ]
    },
    {
      "cell_type": "markdown",
      "source": [
        "## **Step 5: Compare Models Based on F1-Score**"
      ],
      "metadata": {
        "id": "qBwjsTLXgbI8"
      }
    },
    {
      "cell_type": "code",
      "source": [
        "best_model = compare_models(sort='F1')\n"
      ],
      "metadata": {
        "colab": {
          "base_uri": "https://localhost:8080/",
          "height": 551,
          "referenced_widgets": [
            "3d8398b623fb4791ab90a18dca8c1d8a",
            "67f4a34153604ba8aebd7b4f9dd25ae2",
            "ee9e28b3cdb84a90ab41aedc25813905",
            "5496c32e5653451ca5d077fdbcd36246",
            "f910f8b0743d4f02b53e1572a4da4a08",
            "d53e9c75700d4ce6b666a257b0ae44c7",
            "1f747374521647cd8bc75684c815778c",
            "d23b979d6f66480db880b56e30f2041a",
            "f4f24890df314d189873b46d392d3657",
            "c60a5e3e97204f8484e3b079f66912bd",
            "3fd1753f6a1a437fbb784bb34ff938f7"
          ]
        },
        "id": "CQDmedQWfNhr",
        "outputId": "82d93551-9926-4ae3-8125-62b0e003c55e"
      },
      "execution_count": 7,
      "outputs": [
        {
          "output_type": "display_data",
          "data": {
            "text/plain": [
              "<IPython.core.display.HTML object>"
            ],
            "text/html": []
          },
          "metadata": {}
        },
        {
          "output_type": "display_data",
          "data": {
            "text/plain": [
              "<pandas.io.formats.style.Styler at 0x7d1a8fae1a50>"
            ],
            "text/html": [
              "<style type=\"text/css\">\n",
              "#T_873f7 th {\n",
              "  text-align: left;\n",
              "}\n",
              "#T_873f7_row0_col0, #T_873f7_row0_col2, #T_873f7_row0_col3, #T_873f7_row0_col4, #T_873f7_row1_col0, #T_873f7_row1_col1, #T_873f7_row1_col3, #T_873f7_row1_col4, #T_873f7_row1_col5, #T_873f7_row1_col6, #T_873f7_row1_col7, #T_873f7_row2_col0, #T_873f7_row2_col1, #T_873f7_row2_col2, #T_873f7_row2_col3, #T_873f7_row2_col4, #T_873f7_row2_col5, #T_873f7_row2_col6, #T_873f7_row2_col7, #T_873f7_row3_col0, #T_873f7_row3_col1, #T_873f7_row3_col2, #T_873f7_row3_col4, #T_873f7_row3_col5, #T_873f7_row3_col6, #T_873f7_row3_col7, #T_873f7_row4_col0, #T_873f7_row4_col1, #T_873f7_row4_col2, #T_873f7_row4_col3, #T_873f7_row4_col4, #T_873f7_row4_col5, #T_873f7_row4_col6, #T_873f7_row4_col7, #T_873f7_row5_col0, #T_873f7_row5_col1, #T_873f7_row5_col2, #T_873f7_row5_col3, #T_873f7_row5_col4, #T_873f7_row5_col5, #T_873f7_row5_col6, #T_873f7_row5_col7, #T_873f7_row6_col0, #T_873f7_row6_col1, #T_873f7_row6_col2, #T_873f7_row6_col3, #T_873f7_row6_col4, #T_873f7_row6_col5, #T_873f7_row6_col6, #T_873f7_row6_col7, #T_873f7_row7_col0, #T_873f7_row7_col1, #T_873f7_row7_col2, #T_873f7_row7_col3, #T_873f7_row7_col4, #T_873f7_row7_col5, #T_873f7_row7_col6, #T_873f7_row7_col7, #T_873f7_row8_col0, #T_873f7_row8_col1, #T_873f7_row8_col2, #T_873f7_row8_col3, #T_873f7_row8_col5, #T_873f7_row8_col6, #T_873f7_row8_col7, #T_873f7_row9_col0, #T_873f7_row9_col1, #T_873f7_row9_col2, #T_873f7_row9_col3, #T_873f7_row9_col5, #T_873f7_row9_col6, #T_873f7_row9_col7, #T_873f7_row10_col0, #T_873f7_row10_col1, #T_873f7_row10_col2, #T_873f7_row10_col3, #T_873f7_row10_col5, #T_873f7_row10_col6, #T_873f7_row10_col7, #T_873f7_row11_col0, #T_873f7_row11_col1, #T_873f7_row11_col2, #T_873f7_row11_col3, #T_873f7_row11_col5, #T_873f7_row11_col6, #T_873f7_row11_col7, #T_873f7_row12_col0, #T_873f7_row12_col1, #T_873f7_row12_col2, #T_873f7_row12_col3, #T_873f7_row12_col5, #T_873f7_row12_col6, #T_873f7_row12_col7, #T_873f7_row13_col0, #T_873f7_row13_col1, #T_873f7_row13_col2, #T_873f7_row13_col3, #T_873f7_row13_col5, #T_873f7_row13_col6, #T_873f7_row13_col7, #T_873f7_row14_col0, #T_873f7_row14_col1, #T_873f7_row14_col2, #T_873f7_row14_col3, #T_873f7_row14_col4, #T_873f7_row14_col5, #T_873f7_row14_col6, #T_873f7_row14_col7, #T_873f7_row15_col0, #T_873f7_row15_col1, #T_873f7_row15_col2, #T_873f7_row15_col3, #T_873f7_row15_col4, #T_873f7_row15_col5, #T_873f7_row15_col6, #T_873f7_row15_col7 {\n",
              "  text-align: left;\n",
              "}\n",
              "#T_873f7_row0_col1, #T_873f7_row0_col5, #T_873f7_row0_col6, #T_873f7_row0_col7, #T_873f7_row1_col2, #T_873f7_row3_col3, #T_873f7_row8_col4, #T_873f7_row9_col4, #T_873f7_row10_col4, #T_873f7_row11_col4, #T_873f7_row12_col4, #T_873f7_row13_col4 {\n",
              "  text-align: left;\n",
              "  background-color: yellow;\n",
              "}\n",
              "#T_873f7_row0_col8, #T_873f7_row1_col8, #T_873f7_row2_col8, #T_873f7_row3_col8, #T_873f7_row4_col8, #T_873f7_row5_col8, #T_873f7_row6_col8, #T_873f7_row7_col8, #T_873f7_row8_col8, #T_873f7_row9_col8, #T_873f7_row10_col8, #T_873f7_row11_col8, #T_873f7_row12_col8, #T_873f7_row13_col8, #T_873f7_row14_col8 {\n",
              "  text-align: left;\n",
              "  background-color: lightgrey;\n",
              "}\n",
              "#T_873f7_row15_col8 {\n",
              "  text-align: left;\n",
              "  background-color: yellow;\n",
              "  background-color: lightgrey;\n",
              "}\n",
              "</style>\n",
              "<table id=\"T_873f7\" class=\"dataframe\">\n",
              "  <thead>\n",
              "    <tr>\n",
              "      <th class=\"blank level0\" >&nbsp;</th>\n",
              "      <th id=\"T_873f7_level0_col0\" class=\"col_heading level0 col0\" >Model</th>\n",
              "      <th id=\"T_873f7_level0_col1\" class=\"col_heading level0 col1\" >Accuracy</th>\n",
              "      <th id=\"T_873f7_level0_col2\" class=\"col_heading level0 col2\" >AUC</th>\n",
              "      <th id=\"T_873f7_level0_col3\" class=\"col_heading level0 col3\" >Recall</th>\n",
              "      <th id=\"T_873f7_level0_col4\" class=\"col_heading level0 col4\" >Prec.</th>\n",
              "      <th id=\"T_873f7_level0_col5\" class=\"col_heading level0 col5\" >F1</th>\n",
              "      <th id=\"T_873f7_level0_col6\" class=\"col_heading level0 col6\" >Kappa</th>\n",
              "      <th id=\"T_873f7_level0_col7\" class=\"col_heading level0 col7\" >MCC</th>\n",
              "      <th id=\"T_873f7_level0_col8\" class=\"col_heading level0 col8\" >TT (Sec)</th>\n",
              "    </tr>\n",
              "  </thead>\n",
              "  <tbody>\n",
              "    <tr>\n",
              "      <th id=\"T_873f7_level0_row0\" class=\"row_heading level0 row0\" >et</th>\n",
              "      <td id=\"T_873f7_row0_col0\" class=\"data row0 col0\" >Extra Trees Classifier</td>\n",
              "      <td id=\"T_873f7_row0_col1\" class=\"data row0 col1\" >0.9826</td>\n",
              "      <td id=\"T_873f7_row0_col2\" class=\"data row0 col2\" >0.9962</td>\n",
              "      <td id=\"T_873f7_row0_col3\" class=\"data row0 col3\" >0.9875</td>\n",
              "      <td id=\"T_873f7_row0_col4\" class=\"data row0 col4\" >0.9778</td>\n",
              "      <td id=\"T_873f7_row0_col5\" class=\"data row0 col5\" >0.9826</td>\n",
              "      <td id=\"T_873f7_row0_col6\" class=\"data row0 col6\" >0.9651</td>\n",
              "      <td id=\"T_873f7_row0_col7\" class=\"data row0 col7\" >0.9652</td>\n",
              "      <td id=\"T_873f7_row0_col8\" class=\"data row0 col8\" >8.2040</td>\n",
              "    </tr>\n",
              "    <tr>\n",
              "      <th id=\"T_873f7_level0_row1\" class=\"row_heading level0 row1\" >rf</th>\n",
              "      <td id=\"T_873f7_row1_col0\" class=\"data row1 col0\" >Random Forest Classifier</td>\n",
              "      <td id=\"T_873f7_row1_col1\" class=\"data row1 col1\" >0.9819</td>\n",
              "      <td id=\"T_873f7_row1_col2\" class=\"data row1 col2\" >0.9963</td>\n",
              "      <td id=\"T_873f7_row1_col3\" class=\"data row1 col3\" >0.9850</td>\n",
              "      <td id=\"T_873f7_row1_col4\" class=\"data row1 col4\" >0.9789</td>\n",
              "      <td id=\"T_873f7_row1_col5\" class=\"data row1 col5\" >0.9820</td>\n",
              "      <td id=\"T_873f7_row1_col6\" class=\"data row1 col6\" >0.9638</td>\n",
              "      <td id=\"T_873f7_row1_col7\" class=\"data row1 col7\" >0.9638</td>\n",
              "      <td id=\"T_873f7_row1_col8\" class=\"data row1 col8\" >14.0380</td>\n",
              "    </tr>\n",
              "    <tr>\n",
              "      <th id=\"T_873f7_level0_row2\" class=\"row_heading level0 row2\" >dt</th>\n",
              "      <td id=\"T_873f7_row2_col0\" class=\"data row2 col0\" >Decision Tree Classifier</td>\n",
              "      <td id=\"T_873f7_row2_col1\" class=\"data row2 col1\" >0.9754</td>\n",
              "      <td id=\"T_873f7_row2_col2\" class=\"data row2 col2\" >0.9754</td>\n",
              "      <td id=\"T_873f7_row2_col3\" class=\"data row2 col3\" >0.9801</td>\n",
              "      <td id=\"T_873f7_row2_col4\" class=\"data row2 col4\" >0.9710</td>\n",
              "      <td id=\"T_873f7_row2_col5\" class=\"data row2 col5\" >0.9755</td>\n",
              "      <td id=\"T_873f7_row2_col6\" class=\"data row2 col6\" >0.9508</td>\n",
              "      <td id=\"T_873f7_row2_col7\" class=\"data row2 col7\" >0.9509</td>\n",
              "      <td id=\"T_873f7_row2_col8\" class=\"data row2 col8\" >0.6380</td>\n",
              "    </tr>\n",
              "    <tr>\n",
              "      <th id=\"T_873f7_level0_row3\" class=\"row_heading level0 row3\" >knn</th>\n",
              "      <td id=\"T_873f7_row3_col0\" class=\"data row3 col0\" >K Neighbors Classifier</td>\n",
              "      <td id=\"T_873f7_row3_col1\" class=\"data row3 col1\" >0.9625</td>\n",
              "      <td id=\"T_873f7_row3_col2\" class=\"data row3 col2\" >0.9855</td>\n",
              "      <td id=\"T_873f7_row3_col3\" class=\"data row3 col3\" >0.9884</td>\n",
              "      <td id=\"T_873f7_row3_col4\" class=\"data row3 col4\" >0.9398</td>\n",
              "      <td id=\"T_873f7_row3_col5\" class=\"data row3 col5\" >0.9635</td>\n",
              "      <td id=\"T_873f7_row3_col6\" class=\"data row3 col6\" >0.9251</td>\n",
              "      <td id=\"T_873f7_row3_col7\" class=\"data row3 col7\" >0.9263</td>\n",
              "      <td id=\"T_873f7_row3_col8\" class=\"data row3 col8\" >27.6080</td>\n",
              "    </tr>\n",
              "    <tr>\n",
              "      <th id=\"T_873f7_level0_row4\" class=\"row_heading level0 row4\" >catboost</th>\n",
              "      <td id=\"T_873f7_row4_col0\" class=\"data row4 col0\" >CatBoost Classifier</td>\n",
              "      <td id=\"T_873f7_row4_col1\" class=\"data row4 col1\" >0.9424</td>\n",
              "      <td id=\"T_873f7_row4_col2\" class=\"data row4 col2\" >0.9891</td>\n",
              "      <td id=\"T_873f7_row4_col3\" class=\"data row4 col3\" >0.9137</td>\n",
              "      <td id=\"T_873f7_row4_col4\" class=\"data row4 col4\" >0.9693</td>\n",
              "      <td id=\"T_873f7_row4_col5\" class=\"data row4 col5\" >0.9407</td>\n",
              "      <td id=\"T_873f7_row4_col6\" class=\"data row4 col6\" >0.8848</td>\n",
              "      <td id=\"T_873f7_row4_col7\" class=\"data row4 col7\" >0.8863</td>\n",
              "      <td id=\"T_873f7_row4_col8\" class=\"data row4 col8\" >31.6860</td>\n",
              "    </tr>\n",
              "    <tr>\n",
              "      <th id=\"T_873f7_level0_row5\" class=\"row_heading level0 row5\" >xgboost</th>\n",
              "      <td id=\"T_873f7_row5_col0\" class=\"data row5 col0\" >Extreme Gradient Boosting</td>\n",
              "      <td id=\"T_873f7_row5_col1\" class=\"data row5 col1\" >0.9280</td>\n",
              "      <td id=\"T_873f7_row5_col2\" class=\"data row5 col2\" >0.9837</td>\n",
              "      <td id=\"T_873f7_row5_col3\" class=\"data row5 col3\" >0.8881</td>\n",
              "      <td id=\"T_873f7_row5_col4\" class=\"data row5 col4\" >0.9650</td>\n",
              "      <td id=\"T_873f7_row5_col5\" class=\"data row5 col5\" >0.9250</td>\n",
              "      <td id=\"T_873f7_row5_col6\" class=\"data row5 col6\" >0.8559</td>\n",
              "      <td id=\"T_873f7_row5_col7\" class=\"data row5 col7\" >0.8587</td>\n",
              "      <td id=\"T_873f7_row5_col8\" class=\"data row5 col8\" >1.2140</td>\n",
              "    </tr>\n",
              "    <tr>\n",
              "      <th id=\"T_873f7_level0_row6\" class=\"row_heading level0 row6\" >lightgbm</th>\n",
              "      <td id=\"T_873f7_row6_col0\" class=\"data row6 col0\" >Light Gradient Boosting Machine</td>\n",
              "      <td id=\"T_873f7_row6_col1\" class=\"data row6 col1\" >0.8891</td>\n",
              "      <td id=\"T_873f7_row6_col2\" class=\"data row6 col2\" >0.9672</td>\n",
              "      <td id=\"T_873f7_row6_col3\" class=\"data row6 col3\" >0.7904</td>\n",
              "      <td id=\"T_873f7_row6_col4\" class=\"data row6 col4\" >0.9848</td>\n",
              "      <td id=\"T_873f7_row6_col5\" class=\"data row6 col5\" >0.8770</td>\n",
              "      <td id=\"T_873f7_row6_col6\" class=\"data row6 col6\" >0.7782</td>\n",
              "      <td id=\"T_873f7_row6_col7\" class=\"data row6 col7\" >0.7939</td>\n",
              "      <td id=\"T_873f7_row6_col8\" class=\"data row6 col8\" >6.3980</td>\n",
              "    </tr>\n",
              "    <tr>\n",
              "      <th id=\"T_873f7_level0_row7\" class=\"row_heading level0 row7\" >ada</th>\n",
              "      <td id=\"T_873f7_row7_col0\" class=\"data row7 col0\" >Ada Boost Classifier</td>\n",
              "      <td id=\"T_873f7_row7_col1\" class=\"data row7 col1\" >0.8578</td>\n",
              "      <td id=\"T_873f7_row7_col2\" class=\"data row7 col2\" >0.9059</td>\n",
              "      <td id=\"T_873f7_row7_col3\" class=\"data row7 col3\" >0.7451</td>\n",
              "      <td id=\"T_873f7_row7_col4\" class=\"data row7 col4\" >0.9619</td>\n",
              "      <td id=\"T_873f7_row7_col5\" class=\"data row7 col5\" >0.8397</td>\n",
              "      <td id=\"T_873f7_row7_col6\" class=\"data row7 col6\" >0.7155</td>\n",
              "      <td id=\"T_873f7_row7_col7\" class=\"data row7 col7\" >0.7344</td>\n",
              "      <td id=\"T_873f7_row7_col8\" class=\"data row7 col8\" >3.7620</td>\n",
              "    </tr>\n",
              "    <tr>\n",
              "      <th id=\"T_873f7_level0_row8\" class=\"row_heading level0 row8\" >lr</th>\n",
              "      <td id=\"T_873f7_row8_col0\" class=\"data row8 col0\" >Logistic Regression</td>\n",
              "      <td id=\"T_873f7_row8_col1\" class=\"data row8 col1\" >0.8591</td>\n",
              "      <td id=\"T_873f7_row8_col2\" class=\"data row8 col2\" >0.9030</td>\n",
              "      <td id=\"T_873f7_row8_col3\" class=\"data row8 col3\" >0.7182</td>\n",
              "      <td id=\"T_873f7_row8_col4\" class=\"data row8 col4\" >1.0000</td>\n",
              "      <td id=\"T_873f7_row8_col5\" class=\"data row8 col5\" >0.8360</td>\n",
              "      <td id=\"T_873f7_row8_col6\" class=\"data row8 col6\" >0.7182</td>\n",
              "      <td id=\"T_873f7_row8_col7\" class=\"data row8 col7\" >0.7485</td>\n",
              "      <td id=\"T_873f7_row8_col8\" class=\"data row8 col8\" >3.6020</td>\n",
              "    </tr>\n",
              "    <tr>\n",
              "      <th id=\"T_873f7_level0_row9\" class=\"row_heading level0 row9\" >svm</th>\n",
              "      <td id=\"T_873f7_row9_col0\" class=\"data row9 col0\" >SVM - Linear Kernel</td>\n",
              "      <td id=\"T_873f7_row9_col1\" class=\"data row9 col1\" >0.8591</td>\n",
              "      <td id=\"T_873f7_row9_col2\" class=\"data row9 col2\" >0.8895</td>\n",
              "      <td id=\"T_873f7_row9_col3\" class=\"data row9 col3\" >0.7182</td>\n",
              "      <td id=\"T_873f7_row9_col4\" class=\"data row9 col4\" >1.0000</td>\n",
              "      <td id=\"T_873f7_row9_col5\" class=\"data row9 col5\" >0.8360</td>\n",
              "      <td id=\"T_873f7_row9_col6\" class=\"data row9 col6\" >0.7182</td>\n",
              "      <td id=\"T_873f7_row9_col7\" class=\"data row9 col7\" >0.7485</td>\n",
              "      <td id=\"T_873f7_row9_col8\" class=\"data row9 col8\" >0.7020</td>\n",
              "    </tr>\n",
              "    <tr>\n",
              "      <th id=\"T_873f7_level0_row10\" class=\"row_heading level0 row10\" >ridge</th>\n",
              "      <td id=\"T_873f7_row10_col0\" class=\"data row10 col0\" >Ridge Classifier</td>\n",
              "      <td id=\"T_873f7_row10_col1\" class=\"data row10 col1\" >0.8591</td>\n",
              "      <td id=\"T_873f7_row10_col2\" class=\"data row10 col2\" >0.9030</td>\n",
              "      <td id=\"T_873f7_row10_col3\" class=\"data row10 col3\" >0.7182</td>\n",
              "      <td id=\"T_873f7_row10_col4\" class=\"data row10 col4\" >1.0000</td>\n",
              "      <td id=\"T_873f7_row10_col5\" class=\"data row10 col5\" >0.8360</td>\n",
              "      <td id=\"T_873f7_row10_col6\" class=\"data row10 col6\" >0.7182</td>\n",
              "      <td id=\"T_873f7_row10_col7\" class=\"data row10 col7\" >0.7485</td>\n",
              "      <td id=\"T_873f7_row10_col8\" class=\"data row10 col8\" >0.2580</td>\n",
              "    </tr>\n",
              "    <tr>\n",
              "      <th id=\"T_873f7_level0_row11\" class=\"row_heading level0 row11\" >qda</th>\n",
              "      <td id=\"T_873f7_row11_col0\" class=\"data row11 col0\" >Quadratic Discriminant Analysis</td>\n",
              "      <td id=\"T_873f7_row11_col1\" class=\"data row11 col1\" >0.8591</td>\n",
              "      <td id=\"T_873f7_row11_col2\" class=\"data row11 col2\" >0.9048</td>\n",
              "      <td id=\"T_873f7_row11_col3\" class=\"data row11 col3\" >0.7182</td>\n",
              "      <td id=\"T_873f7_row11_col4\" class=\"data row11 col4\" >1.0000</td>\n",
              "      <td id=\"T_873f7_row11_col5\" class=\"data row11 col5\" >0.8360</td>\n",
              "      <td id=\"T_873f7_row11_col6\" class=\"data row11 col6\" >0.7182</td>\n",
              "      <td id=\"T_873f7_row11_col7\" class=\"data row11 col7\" >0.7485</td>\n",
              "      <td id=\"T_873f7_row11_col8\" class=\"data row11 col8\" >0.2860</td>\n",
              "    </tr>\n",
              "    <tr>\n",
              "      <th id=\"T_873f7_level0_row12\" class=\"row_heading level0 row12\" >gbc</th>\n",
              "      <td id=\"T_873f7_row12_col0\" class=\"data row12 col0\" >Gradient Boosting Classifier</td>\n",
              "      <td id=\"T_873f7_row12_col1\" class=\"data row12 col1\" >0.8591</td>\n",
              "      <td id=\"T_873f7_row12_col2\" class=\"data row12 col2\" >0.9070</td>\n",
              "      <td id=\"T_873f7_row12_col3\" class=\"data row12 col3\" >0.7182</td>\n",
              "      <td id=\"T_873f7_row12_col4\" class=\"data row12 col4\" >1.0000</td>\n",
              "      <td id=\"T_873f7_row12_col5\" class=\"data row12 col5\" >0.8360</td>\n",
              "      <td id=\"T_873f7_row12_col6\" class=\"data row12 col6\" >0.7182</td>\n",
              "      <td id=\"T_873f7_row12_col7\" class=\"data row12 col7\" >0.7485</td>\n",
              "      <td id=\"T_873f7_row12_col8\" class=\"data row12 col8\" >12.7840</td>\n",
              "    </tr>\n",
              "    <tr>\n",
              "      <th id=\"T_873f7_level0_row13\" class=\"row_heading level0 row13\" >lda</th>\n",
              "      <td id=\"T_873f7_row13_col0\" class=\"data row13 col0\" >Linear Discriminant Analysis</td>\n",
              "      <td id=\"T_873f7_row13_col1\" class=\"data row13 col1\" >0.8591</td>\n",
              "      <td id=\"T_873f7_row13_col2\" class=\"data row13 col2\" >0.9030</td>\n",
              "      <td id=\"T_873f7_row13_col3\" class=\"data row13 col3\" >0.7182</td>\n",
              "      <td id=\"T_873f7_row13_col4\" class=\"data row13 col4\" >1.0000</td>\n",
              "      <td id=\"T_873f7_row13_col5\" class=\"data row13 col5\" >0.8360</td>\n",
              "      <td id=\"T_873f7_row13_col6\" class=\"data row13 col6\" >0.7182</td>\n",
              "      <td id=\"T_873f7_row13_col7\" class=\"data row13 col7\" >0.7485</td>\n",
              "      <td id=\"T_873f7_row13_col8\" class=\"data row13 col8\" >0.4500</td>\n",
              "    </tr>\n",
              "    <tr>\n",
              "      <th id=\"T_873f7_level0_row14\" class=\"row_heading level0 row14\" >nb</th>\n",
              "      <td id=\"T_873f7_row14_col0\" class=\"data row14 col0\" >Naive Bayes</td>\n",
              "      <td id=\"T_873f7_row14_col1\" class=\"data row14 col1\" >0.8115</td>\n",
              "      <td id=\"T_873f7_row14_col2\" class=\"data row14 col2\" >0.9010</td>\n",
              "      <td id=\"T_873f7_row14_col3\" class=\"data row14 col3\" >0.8139</td>\n",
              "      <td id=\"T_873f7_row14_col4\" class=\"data row14 col4\" >0.8101</td>\n",
              "      <td id=\"T_873f7_row14_col5\" class=\"data row14 col5\" >0.8120</td>\n",
              "      <td id=\"T_873f7_row14_col6\" class=\"data row14 col6\" >0.6231</td>\n",
              "      <td id=\"T_873f7_row14_col7\" class=\"data row14 col7\" >0.6231</td>\n",
              "      <td id=\"T_873f7_row14_col8\" class=\"data row14 col8\" >0.2660</td>\n",
              "    </tr>\n",
              "    <tr>\n",
              "      <th id=\"T_873f7_level0_row15\" class=\"row_heading level0 row15\" >dummy</th>\n",
              "      <td id=\"T_873f7_row15_col0\" class=\"data row15 col0\" >Dummy Classifier</td>\n",
              "      <td id=\"T_873f7_row15_col1\" class=\"data row15 col1\" >0.5000</td>\n",
              "      <td id=\"T_873f7_row15_col2\" class=\"data row15 col2\" >0.5000</td>\n",
              "      <td id=\"T_873f7_row15_col3\" class=\"data row15 col3\" >0.0000</td>\n",
              "      <td id=\"T_873f7_row15_col4\" class=\"data row15 col4\" >0.0000</td>\n",
              "      <td id=\"T_873f7_row15_col5\" class=\"data row15 col5\" >0.0000</td>\n",
              "      <td id=\"T_873f7_row15_col6\" class=\"data row15 col6\" >0.0000</td>\n",
              "      <td id=\"T_873f7_row15_col7\" class=\"data row15 col7\" >0.0000</td>\n",
              "      <td id=\"T_873f7_row15_col8\" class=\"data row15 col8\" >0.2040</td>\n",
              "    </tr>\n",
              "  </tbody>\n",
              "</table>\n"
            ]
          },
          "metadata": {}
        },
        {
          "output_type": "display_data",
          "data": {
            "text/plain": [
              "Processing:   0%|          | 0/69 [00:00<?, ?it/s]"
            ],
            "application/vnd.jupyter.widget-view+json": {
              "version_major": 2,
              "version_minor": 0,
              "model_id": "3d8398b623fb4791ab90a18dca8c1d8a"
            }
          },
          "metadata": {
            "application/vnd.jupyter.widget-view+json": {
              "colab": {
                "custom_widget_manager": {
                  "url": "https://ssl.gstatic.com/colaboratory-static/widgets/colab-cdn-widget-manager/2b70e893a8ba7c0f/manager.min.js"
                }
              }
            }
          }
        },
        {
          "output_type": "display_data",
          "data": {
            "text/plain": [
              "<IPython.core.display.HTML object>"
            ],
            "text/html": []
          },
          "metadata": {}
        }
      ]
    },
    {
      "cell_type": "markdown",
      "source": [
        "# **Step 6:Evaluate Best Model with Precision-Recall & Confusion Matrix**"
      ],
      "metadata": {
        "id": "HMzfCrjYipqU"
      }
    },
    {
      "cell_type": "code",
      "source": [
        "evaluate_model(best_model)\n"
      ],
      "metadata": {
        "colab": {
          "base_uri": "https://localhost:8080/",
          "height": 215,
          "referenced_widgets": [
            "242d7eafe69a4776920e9f6d5fbe006c",
            "a3023d21ca3b4c5fb996e0ea601cd469",
            "f69776e4651f421996231a21a371cf1b",
            "9791ad4c89a14bfdbd5ec1e10f3350c1",
            "80b0d3ae02344e87bbbb3235f0e6cc1c",
            "9bd22e2c9d4a4fe4ab3aca2b7065af23",
            "0d3462d2f10448bca3cc04391646c012"
          ]
        },
        "id": "Roszg4NtgiQf",
        "outputId": "350d68d8-0c12-4d38-8559-0f181d5823df"
      },
      "execution_count": 8,
      "outputs": [
        {
          "output_type": "display_data",
          "data": {
            "text/plain": [
              "interactive(children=(ToggleButtons(description='Plot Type:', icons=('',), options=(('Pipeline Plot', 'pipelin…"
            ],
            "application/vnd.jupyter.widget-view+json": {
              "version_major": 2,
              "version_minor": 0,
              "model_id": "242d7eafe69a4776920e9f6d5fbe006c"
            }
          },
          "metadata": {
            "application/vnd.jupyter.widget-view+json": {
              "colab": {
                "custom_widget_manager": {
                  "url": "https://ssl.gstatic.com/colaboratory-static/widgets/colab-cdn-widget-manager/2b70e893a8ba7c0f/manager.min.js"
                }
              }
            }
          }
        }
      ]
    },
    {
      "cell_type": "markdown",
      "source": [
        "# **Step 7: Finalize and Predict**"
      ],
      "metadata": {
        "id": "mDLCODASiwo7"
      }
    },
    {
      "cell_type": "code",
      "source": [
        "# FinalizeAndPredict\n",
        "final_model = finalize_model(best_model)\n",
        "predictions = predict_model(final_model)\n",
        "\n",
        "# ShowPredictionSample\n",
        "predictions[['prediction_label', 'prediction_score']].head()\n",
        "\n"
      ],
      "metadata": {
        "colab": {
          "base_uri": "https://localhost:8080/",
          "height": 270
        },
        "id": "3-LR9q_Diz2Q",
        "outputId": "c18a69e0-bf1e-42e8-9fac-6af8e95f1477"
      },
      "execution_count": 9,
      "outputs": [
        {
          "output_type": "display_data",
          "data": {
            "text/plain": [
              "<pandas.io.formats.style.Styler at 0x7d1a8f613f50>"
            ],
            "text/html": [
              "<style type=\"text/css\">\n",
              "</style>\n",
              "<table id=\"T_47d32\" class=\"dataframe\">\n",
              "  <thead>\n",
              "    <tr>\n",
              "      <th class=\"blank level0\" >&nbsp;</th>\n",
              "      <th id=\"T_47d32_level0_col0\" class=\"col_heading level0 col0\" >Model</th>\n",
              "      <th id=\"T_47d32_level0_col1\" class=\"col_heading level0 col1\" >Accuracy</th>\n",
              "      <th id=\"T_47d32_level0_col2\" class=\"col_heading level0 col2\" >AUC</th>\n",
              "      <th id=\"T_47d32_level0_col3\" class=\"col_heading level0 col3\" >Recall</th>\n",
              "      <th id=\"T_47d32_level0_col4\" class=\"col_heading level0 col4\" >Prec.</th>\n",
              "      <th id=\"T_47d32_level0_col5\" class=\"col_heading level0 col5\" >F1</th>\n",
              "      <th id=\"T_47d32_level0_col6\" class=\"col_heading level0 col6\" >Kappa</th>\n",
              "      <th id=\"T_47d32_level0_col7\" class=\"col_heading level0 col7\" >MCC</th>\n",
              "    </tr>\n",
              "  </thead>\n",
              "  <tbody>\n",
              "    <tr>\n",
              "      <th id=\"T_47d32_level0_row0\" class=\"row_heading level0 row0\" >0</th>\n",
              "      <td id=\"T_47d32_row0_col0\" class=\"data row0 col0\" >Extra Trees Classifier</td>\n",
              "      <td id=\"T_47d32_row0_col1\" class=\"data row0 col1\" >0.9978</td>\n",
              "      <td id=\"T_47d32_row0_col2\" class=\"data row0 col2\" >0.9998</td>\n",
              "      <td id=\"T_47d32_row0_col3\" class=\"data row0 col3\" >0.9977</td>\n",
              "      <td id=\"T_47d32_row0_col4\" class=\"data row0 col4\" >0.9978</td>\n",
              "      <td id=\"T_47d32_row0_col5\" class=\"data row0 col5\" >0.9978</td>\n",
              "      <td id=\"T_47d32_row0_col6\" class=\"data row0 col6\" >0.9956</td>\n",
              "      <td id=\"T_47d32_row0_col7\" class=\"data row0 col7\" >0.9956</td>\n",
              "    </tr>\n",
              "  </tbody>\n",
              "</table>\n"
            ]
          },
          "metadata": {}
        },
        {
          "output_type": "execute_result",
          "data": {
            "text/plain": [
              "        prediction_label  prediction_score\n",
              "150888                 1              1.00\n",
              "3233                   0              0.98\n",
              "118282                 1              0.93\n",
              "179044                 1              1.00\n",
              "130155                 1              1.00"
            ],
            "text/html": [
              "\n",
              "  <div id=\"df-10d1cec6-8798-40dd-8f3d-17583a4be476\" class=\"colab-df-container\">\n",
              "    <div>\n",
              "<style scoped>\n",
              "    .dataframe tbody tr th:only-of-type {\n",
              "        vertical-align: middle;\n",
              "    }\n",
              "\n",
              "    .dataframe tbody tr th {\n",
              "        vertical-align: top;\n",
              "    }\n",
              "\n",
              "    .dataframe thead th {\n",
              "        text-align: right;\n",
              "    }\n",
              "</style>\n",
              "<table border=\"1\" class=\"dataframe\">\n",
              "  <thead>\n",
              "    <tr style=\"text-align: right;\">\n",
              "      <th></th>\n",
              "      <th>prediction_label</th>\n",
              "      <th>prediction_score</th>\n",
              "    </tr>\n",
              "  </thead>\n",
              "  <tbody>\n",
              "    <tr>\n",
              "      <th>150888</th>\n",
              "      <td>1</td>\n",
              "      <td>1.00</td>\n",
              "    </tr>\n",
              "    <tr>\n",
              "      <th>3233</th>\n",
              "      <td>0</td>\n",
              "      <td>0.98</td>\n",
              "    </tr>\n",
              "    <tr>\n",
              "      <th>118282</th>\n",
              "      <td>1</td>\n",
              "      <td>0.93</td>\n",
              "    </tr>\n",
              "    <tr>\n",
              "      <th>179044</th>\n",
              "      <td>1</td>\n",
              "      <td>1.00</td>\n",
              "    </tr>\n",
              "    <tr>\n",
              "      <th>130155</th>\n",
              "      <td>1</td>\n",
              "      <td>1.00</td>\n",
              "    </tr>\n",
              "  </tbody>\n",
              "</table>\n",
              "</div>\n",
              "    <div class=\"colab-df-buttons\">\n",
              "\n",
              "  <div class=\"colab-df-container\">\n",
              "    <button class=\"colab-df-convert\" onclick=\"convertToInteractive('df-10d1cec6-8798-40dd-8f3d-17583a4be476')\"\n",
              "            title=\"Convert this dataframe to an interactive table.\"\n",
              "            style=\"display:none;\">\n",
              "\n",
              "  <svg xmlns=\"http://www.w3.org/2000/svg\" height=\"24px\" viewBox=\"0 -960 960 960\">\n",
              "    <path d=\"M120-120v-720h720v720H120Zm60-500h600v-160H180v160Zm220 220h160v-160H400v160Zm0 220h160v-160H400v160ZM180-400h160v-160H180v160Zm440 0h160v-160H620v160ZM180-180h160v-160H180v160Zm440 0h160v-160H620v160Z\"/>\n",
              "  </svg>\n",
              "    </button>\n",
              "\n",
              "  <style>\n",
              "    .colab-df-container {\n",
              "      display:flex;\n",
              "      gap: 12px;\n",
              "    }\n",
              "\n",
              "    .colab-df-convert {\n",
              "      background-color: #E8F0FE;\n",
              "      border: none;\n",
              "      border-radius: 50%;\n",
              "      cursor: pointer;\n",
              "      display: none;\n",
              "      fill: #1967D2;\n",
              "      height: 32px;\n",
              "      padding: 0 0 0 0;\n",
              "      width: 32px;\n",
              "    }\n",
              "\n",
              "    .colab-df-convert:hover {\n",
              "      background-color: #E2EBFA;\n",
              "      box-shadow: 0px 1px 2px rgba(60, 64, 67, 0.3), 0px 1px 3px 1px rgba(60, 64, 67, 0.15);\n",
              "      fill: #174EA6;\n",
              "    }\n",
              "\n",
              "    .colab-df-buttons div {\n",
              "      margin-bottom: 4px;\n",
              "    }\n",
              "\n",
              "    [theme=dark] .colab-df-convert {\n",
              "      background-color: #3B4455;\n",
              "      fill: #D2E3FC;\n",
              "    }\n",
              "\n",
              "    [theme=dark] .colab-df-convert:hover {\n",
              "      background-color: #434B5C;\n",
              "      box-shadow: 0px 1px 3px 1px rgba(0, 0, 0, 0.15);\n",
              "      filter: drop-shadow(0px 1px 2px rgba(0, 0, 0, 0.3));\n",
              "      fill: #FFFFFF;\n",
              "    }\n",
              "  </style>\n",
              "\n",
              "    <script>\n",
              "      const buttonEl =\n",
              "        document.querySelector('#df-10d1cec6-8798-40dd-8f3d-17583a4be476 button.colab-df-convert');\n",
              "      buttonEl.style.display =\n",
              "        google.colab.kernel.accessAllowed ? 'block' : 'none';\n",
              "\n",
              "      async function convertToInteractive(key) {\n",
              "        const element = document.querySelector('#df-10d1cec6-8798-40dd-8f3d-17583a4be476');\n",
              "        const dataTable =\n",
              "          await google.colab.kernel.invokeFunction('convertToInteractive',\n",
              "                                                    [key], {});\n",
              "        if (!dataTable) return;\n",
              "\n",
              "        const docLinkHtml = 'Like what you see? Visit the ' +\n",
              "          '<a target=\"_blank\" href=https://colab.research.google.com/notebooks/data_table.ipynb>data table notebook</a>'\n",
              "          + ' to learn more about interactive tables.';\n",
              "        element.innerHTML = '';\n",
              "        dataTable['output_type'] = 'display_data';\n",
              "        await google.colab.output.renderOutput(dataTable, element);\n",
              "        const docLink = document.createElement('div');\n",
              "        docLink.innerHTML = docLinkHtml;\n",
              "        element.appendChild(docLink);\n",
              "      }\n",
              "    </script>\n",
              "  </div>\n",
              "\n",
              "\n",
              "<div id=\"df-26ca9b8a-de23-407d-bdef-f87bed596f47\">\n",
              "  <button class=\"colab-df-quickchart\" onclick=\"quickchart('df-26ca9b8a-de23-407d-bdef-f87bed596f47')\"\n",
              "            title=\"Suggest charts\"\n",
              "            style=\"display:none;\">\n",
              "\n",
              "<svg xmlns=\"http://www.w3.org/2000/svg\" height=\"24px\"viewBox=\"0 0 24 24\"\n",
              "     width=\"24px\">\n",
              "    <g>\n",
              "        <path d=\"M19 3H5c-1.1 0-2 .9-2 2v14c0 1.1.9 2 2 2h14c1.1 0 2-.9 2-2V5c0-1.1-.9-2-2-2zM9 17H7v-7h2v7zm4 0h-2V7h2v10zm4 0h-2v-4h2v4z\"/>\n",
              "    </g>\n",
              "</svg>\n",
              "  </button>\n",
              "\n",
              "<style>\n",
              "  .colab-df-quickchart {\n",
              "      --bg-color: #E8F0FE;\n",
              "      --fill-color: #1967D2;\n",
              "      --hover-bg-color: #E2EBFA;\n",
              "      --hover-fill-color: #174EA6;\n",
              "      --disabled-fill-color: #AAA;\n",
              "      --disabled-bg-color: #DDD;\n",
              "  }\n",
              "\n",
              "  [theme=dark] .colab-df-quickchart {\n",
              "      --bg-color: #3B4455;\n",
              "      --fill-color: #D2E3FC;\n",
              "      --hover-bg-color: #434B5C;\n",
              "      --hover-fill-color: #FFFFFF;\n",
              "      --disabled-bg-color: #3B4455;\n",
              "      --disabled-fill-color: #666;\n",
              "  }\n",
              "\n",
              "  .colab-df-quickchart {\n",
              "    background-color: var(--bg-color);\n",
              "    border: none;\n",
              "    border-radius: 50%;\n",
              "    cursor: pointer;\n",
              "    display: none;\n",
              "    fill: var(--fill-color);\n",
              "    height: 32px;\n",
              "    padding: 0;\n",
              "    width: 32px;\n",
              "  }\n",
              "\n",
              "  .colab-df-quickchart:hover {\n",
              "    background-color: var(--hover-bg-color);\n",
              "    box-shadow: 0 1px 2px rgba(60, 64, 67, 0.3), 0 1px 3px 1px rgba(60, 64, 67, 0.15);\n",
              "    fill: var(--button-hover-fill-color);\n",
              "  }\n",
              "\n",
              "  .colab-df-quickchart-complete:disabled,\n",
              "  .colab-df-quickchart-complete:disabled:hover {\n",
              "    background-color: var(--disabled-bg-color);\n",
              "    fill: var(--disabled-fill-color);\n",
              "    box-shadow: none;\n",
              "  }\n",
              "\n",
              "  .colab-df-spinner {\n",
              "    border: 2px solid var(--fill-color);\n",
              "    border-color: transparent;\n",
              "    border-bottom-color: var(--fill-color);\n",
              "    animation:\n",
              "      spin 1s steps(1) infinite;\n",
              "  }\n",
              "\n",
              "  @keyframes spin {\n",
              "    0% {\n",
              "      border-color: transparent;\n",
              "      border-bottom-color: var(--fill-color);\n",
              "      border-left-color: var(--fill-color);\n",
              "    }\n",
              "    20% {\n",
              "      border-color: transparent;\n",
              "      border-left-color: var(--fill-color);\n",
              "      border-top-color: var(--fill-color);\n",
              "    }\n",
              "    30% {\n",
              "      border-color: transparent;\n",
              "      border-left-color: var(--fill-color);\n",
              "      border-top-color: var(--fill-color);\n",
              "      border-right-color: var(--fill-color);\n",
              "    }\n",
              "    40% {\n",
              "      border-color: transparent;\n",
              "      border-right-color: var(--fill-color);\n",
              "      border-top-color: var(--fill-color);\n",
              "    }\n",
              "    60% {\n",
              "      border-color: transparent;\n",
              "      border-right-color: var(--fill-color);\n",
              "    }\n",
              "    80% {\n",
              "      border-color: transparent;\n",
              "      border-right-color: var(--fill-color);\n",
              "      border-bottom-color: var(--fill-color);\n",
              "    }\n",
              "    90% {\n",
              "      border-color: transparent;\n",
              "      border-bottom-color: var(--fill-color);\n",
              "    }\n",
              "  }\n",
              "</style>\n",
              "\n",
              "  <script>\n",
              "    async function quickchart(key) {\n",
              "      const quickchartButtonEl =\n",
              "        document.querySelector('#' + key + ' button');\n",
              "      quickchartButtonEl.disabled = true;  // To prevent multiple clicks.\n",
              "      quickchartButtonEl.classList.add('colab-df-spinner');\n",
              "      try {\n",
              "        const charts = await google.colab.kernel.invokeFunction(\n",
              "            'suggestCharts', [key], {});\n",
              "      } catch (error) {\n",
              "        console.error('Error during call to suggestCharts:', error);\n",
              "      }\n",
              "      quickchartButtonEl.classList.remove('colab-df-spinner');\n",
              "      quickchartButtonEl.classList.add('colab-df-quickchart-complete');\n",
              "    }\n",
              "    (() => {\n",
              "      let quickchartButtonEl =\n",
              "        document.querySelector('#df-26ca9b8a-de23-407d-bdef-f87bed596f47 button');\n",
              "      quickchartButtonEl.style.display =\n",
              "        google.colab.kernel.accessAllowed ? 'block' : 'none';\n",
              "    })();\n",
              "  </script>\n",
              "</div>\n",
              "\n",
              "    </div>\n",
              "  </div>\n"
            ],
            "application/vnd.google.colaboratory.intrinsic+json": {
              "type": "dataframe",
              "summary": "{\n  \"name\": \"predictions[['prediction_label', 'prediction_score']]\",\n  \"rows\": 5,\n  \"fields\": [\n    {\n      \"column\": \"prediction_label\",\n      \"properties\": {\n        \"dtype\": \"number\",\n        \"std\": 0,\n        \"min\": 0,\n        \"max\": 1,\n        \"num_unique_values\": 2,\n        \"samples\": [\n          0,\n          1\n        ],\n        \"semantic_type\": \"\",\n        \"description\": \"\"\n      }\n    },\n    {\n      \"column\": \"prediction_score\",\n      \"properties\": {\n        \"dtype\": \"number\",\n        \"std\": 0.030331501776206183,\n        \"min\": 0.93,\n        \"max\": 1.0,\n        \"num_unique_values\": 3,\n        \"samples\": [\n          1.0,\n          0.98\n        ],\n        \"semantic_type\": \"\",\n        \"description\": \"\"\n      }\n    }\n  ]\n}"
            }
          },
          "metadata": {},
          "execution_count": 9
        }
      ]
    },
    {
      "cell_type": "markdown",
      "source": [
        "# **Step 8: Visualization**"
      ],
      "metadata": {
        "id": "42-7WN_WjBKD"
      }
    },
    {
      "cell_type": "code",
      "source": [
        "# ConfusionMatrix\n",
        "plot_model(final_model, plot='confusion_matrix')\n",
        "\n",
        "# AUCPlot\n",
        "plot_model(final_model, plot='auc')\n",
        "\n",
        "# FeatureImportance\n",
        "plot_model(final_model, plot='feature')\n",
        "\n",
        "# ClassificationReport\n",
        "plot_model(final_model, plot='class_report')\n"
      ],
      "metadata": {
        "colab": {
          "base_uri": "https://localhost:8080/",
          "height": 1000
        },
        "id": "SbfckBWSjElu",
        "outputId": "7cc12b0e-9245-43d6-c1f4-3e745060e4ce"
      },
      "execution_count": 10,
      "outputs": [
        {
          "output_type": "display_data",
          "data": {
            "text/plain": [
              "<IPython.core.display.HTML object>"
            ],
            "text/html": []
          },
          "metadata": {}
        },
        {
          "output_type": "display_data",
          "data": {
            "text/plain": [
              "<Figure size 800x550 with 1 Axes>"
            ],
            "image/png": "[encoded data removed]"
          },
          "metadata": {}
        },
        {
          "output_type": "display_data",
          "data": {
            "text/plain": [
              "<IPython.core.display.HTML object>"
            ],
            "text/html": []
          },
          "metadata": {}
        },
        {
          "output_type": "display_data",
          "data": {
            "text/plain": [
              "<Figure size 800x550 with 1 Axes>"
            ],
            "image/png": "[encoded data removed]"
          },
          "metadata": {}
        },
        {
          "output_type": "display_data",
          "data": {
            "text/plain": [
              "<IPython.core.display.HTML object>"
            ],
            "text/html": []
          },
          "metadata": {}
        },
        {
          "output_type": "display_data",
          "data": {
            "text/plain": [
              "<Figure size 800x500 with 1 Axes>"
            ],
            "image/png": "[encoded data removed]"
          },
          "metadata": {}
        },
        {
          "output_type": "display_data",
          "data": {
            "text/plain": [
              "<IPython.core.display.HTML object>"
            ],
            "text/html": []
          },
          "metadata": {}
        },
        {
          "output_type": "display_data",
          "data": {
            "text/plain": [
              "<Figure size 800x550 with 2 Axes>"
            ],
            "image/png": "[encoded data removed]"
          },
          "metadata": {}
        }
      ]
    },
    {
      "cell_type": "markdown",
      "source": [
        "# **Step 9: AGI Conceptual Enhancement (Header for Trailer)**"
      ],
      "metadata": {
        "id": "ZgfZ_WJTjGaS"
      }
    },
    {
      "cell_type": "markdown",
      "source": [
        "# Conceptual Enhancement: Using AGI for Adaptive Fraud Detection\n",
        "\n",
        "In the future, Artificial General Intelligence (AGI) could enhance fraud detection systems by:\n",
        "\n",
        "- Understanding new fraud patterns without retraining\n",
        "- Simulating adversarial attacks to improve system robustness\n",
        "- Dynamically adapting to shifting customer behavior and fraud strategies\n",
        "\n",
        "AGI could automate not just model selection but continuous learning from evolving data, making systems proactive rather than reactive.\n"
      ],
      "metadata": {
        "id": "zmTt28uXjU2y"
      }
    },
    {
      "cell_type": "markdown",
      "source": [
        "# **Step 10 :Learning Curve Analysis – Detecting Overfitting or Underfitting**"
      ],
      "metadata": {
        "id": "WK0ERbtfzr2w"
      }
    },
    {
      "cell_type": "code",
      "source": [
        "# Create a simpler model to avoid parallel pickling\n",
        "simple_model = create_model('lr')  # Logistic Regression (safe for learning curve)\n",
        "plot_model(simple_model, plot='learning')\n"
      ],
      "metadata": {
        "colab": {
          "base_uri": "https://localhost:8080/",
          "height": 839,
          "referenced_widgets": [
            "e44b34d7f49f4dd1a859b4961af227de",
            "7e282fc6325c4e1f80dd2dcb3c995c06",
            "2e2206de9e9c4af2a9efefc256210986",
            "c437042ae4d24ff0a72c76974be18e42",
            "cbe77f10a7234c33a464d5203e8323b0",
            "3d20a97086044edfa3c5144292bd61f9",
            "de87ca34862e4b0fb5d51d2819981a89",
            "350768a7356e4225800a6bf4a6515751",
            "fd2308f8de5c49138f5f557d06320b59",
            "3e04b5a85b7c4c0283f948639c1e4a3f",
            "415abe6d32f846098605b1c820d75bfa"
          ]
        },
        "id": "Rbj2FlBVnQF2",
        "outputId": "5a9466ba-7d4f-4e34-edf5-ab3dd73381f0"
      },
      "execution_count": 13,
      "outputs": [
        {
          "output_type": "display_data",
          "data": {
            "text/plain": [
              "<IPython.core.display.HTML object>"
            ],
            "text/html": []
          },
          "metadata": {}
        },
        {
          "output_type": "display_data",
          "data": {
            "text/plain": [
              "<pandas.io.formats.style.Styler at 0x7d1c314da190>"
            ],
            "text/html": [
              "<style type=\"text/css\">\n",
              "#T_334b4_row5_col0, #T_334b4_row5_col1, #T_334b4_row5_col2, #T_334b4_row5_col3, #T_334b4_row5_col4, #T_334b4_row5_col5, #T_334b4_row5_col6 {\n",
              "  background: yellow;\n",
              "}\n",
              "</style>\n",
              "<table id=\"T_334b4\" class=\"dataframe\">\n",
              "  <thead>\n",
              "    <tr>\n",
              "      <th class=\"blank level0\" >&nbsp;</th>\n",
              "      <th id=\"T_334b4_level0_col0\" class=\"col_heading level0 col0\" >Accuracy</th>\n",
              "      <th id=\"T_334b4_level0_col1\" class=\"col_heading level0 col1\" >AUC</th>\n",
              "      <th id=\"T_334b4_level0_col2\" class=\"col_heading level0 col2\" >Recall</th>\n",
              "      <th id=\"T_334b4_level0_col3\" class=\"col_heading level0 col3\" >Prec.</th>\n",
              "      <th id=\"T_334b4_level0_col4\" class=\"col_heading level0 col4\" >F1</th>\n",
              "      <th id=\"T_334b4_level0_col5\" class=\"col_heading level0 col5\" >Kappa</th>\n",
              "      <th id=\"T_334b4_level0_col6\" class=\"col_heading level0 col6\" >MCC</th>\n",
              "    </tr>\n",
              "    <tr>\n",
              "      <th class=\"index_name level0\" >Fold</th>\n",
              "      <th class=\"blank col0\" >&nbsp;</th>\n",
              "      <th class=\"blank col1\" >&nbsp;</th>\n",
              "      <th class=\"blank col2\" >&nbsp;</th>\n",
              "      <th class=\"blank col3\" >&nbsp;</th>\n",
              "      <th class=\"blank col4\" >&nbsp;</th>\n",
              "      <th class=\"blank col5\" >&nbsp;</th>\n",
              "      <th class=\"blank col6\" >&nbsp;</th>\n",
              "    </tr>\n",
              "  </thead>\n",
              "  <tbody>\n",
              "    <tr>\n",
              "      <th id=\"T_334b4_level0_row0\" class=\"row_heading level0 row0\" >0</th>\n",
              "      <td id=\"T_334b4_row0_col0\" class=\"data row0 col0\" >0.8583</td>\n",
              "      <td id=\"T_334b4_row0_col1\" class=\"data row0 col1\" >0.9028</td>\n",
              "      <td id=\"T_334b4_row0_col2\" class=\"data row0 col2\" >0.7165</td>\n",
              "      <td id=\"T_334b4_row0_col3\" class=\"data row0 col3\" >1.0000</td>\n",
              "      <td id=\"T_334b4_row0_col4\" class=\"data row0 col4\" >0.8349</td>\n",
              "      <td id=\"T_334b4_row0_col5\" class=\"data row0 col5\" >0.7165</td>\n",
              "      <td id=\"T_334b4_row0_col6\" class=\"data row0 col6\" >0.7472</td>\n",
              "    </tr>\n",
              "    <tr>\n",
              "      <th id=\"T_334b4_level0_row1\" class=\"row_heading level0 row1\" >1</th>\n",
              "      <td id=\"T_334b4_row1_col0\" class=\"data row1 col0\" >0.8597</td>\n",
              "      <td id=\"T_334b4_row1_col1\" class=\"data row1 col1\" >0.9032</td>\n",
              "      <td id=\"T_334b4_row1_col2\" class=\"data row1 col2\" >0.7195</td>\n",
              "      <td id=\"T_334b4_row1_col3\" class=\"data row1 col3\" >1.0000</td>\n",
              "      <td id=\"T_334b4_row1_col4\" class=\"data row1 col4\" >0.8369</td>\n",
              "      <td id=\"T_334b4_row1_col5\" class=\"data row1 col5\" >0.7195</td>\n",
              "      <td id=\"T_334b4_row1_col6\" class=\"data row1 col6\" >0.7496</td>\n",
              "    </tr>\n",
              "    <tr>\n",
              "      <th id=\"T_334b4_level0_row2\" class=\"row_heading level0 row2\" >2</th>\n",
              "      <td id=\"T_334b4_row2_col0\" class=\"data row2 col0\" >0.8570</td>\n",
              "      <td id=\"T_334b4_row2_col1\" class=\"data row2 col1\" >0.9008</td>\n",
              "      <td id=\"T_334b4_row2_col2\" class=\"data row2 col2\" >0.7139</td>\n",
              "      <td id=\"T_334b4_row2_col3\" class=\"data row2 col3\" >1.0000</td>\n",
              "      <td id=\"T_334b4_row2_col4\" class=\"data row2 col4\" >0.8331</td>\n",
              "      <td id=\"T_334b4_row2_col5\" class=\"data row2 col5\" >0.7139</td>\n",
              "      <td id=\"T_334b4_row2_col6\" class=\"data row2 col6\" >0.7451</td>\n",
              "    </tr>\n",
              "    <tr>\n",
              "      <th id=\"T_334b4_level0_row3\" class=\"row_heading level0 row3\" >3</th>\n",
              "      <td id=\"T_334b4_row3_col0\" class=\"data row3 col0\" >0.8585</td>\n",
              "      <td id=\"T_334b4_row3_col1\" class=\"data row3 col1\" >0.9015</td>\n",
              "      <td id=\"T_334b4_row3_col2\" class=\"data row3 col2\" >0.7170</td>\n",
              "      <td id=\"T_334b4_row3_col3\" class=\"data row3 col3\" >1.0000</td>\n",
              "      <td id=\"T_334b4_row3_col4\" class=\"data row3 col4\" >0.8351</td>\n",
              "      <td id=\"T_334b4_row3_col5\" class=\"data row3 col5\" >0.7170</td>\n",
              "      <td id=\"T_334b4_row3_col6\" class=\"data row3 col6\" >0.7475</td>\n",
              "    </tr>\n",
              "    <tr>\n",
              "      <th id=\"T_334b4_level0_row4\" class=\"row_heading level0 row4\" >4</th>\n",
              "      <td id=\"T_334b4_row4_col0\" class=\"data row4 col0\" >0.8620</td>\n",
              "      <td id=\"T_334b4_row4_col1\" class=\"data row4 col1\" >0.9067</td>\n",
              "      <td id=\"T_334b4_row4_col2\" class=\"data row4 col2\" >0.7241</td>\n",
              "      <td id=\"T_334b4_row4_col3\" class=\"data row4 col3\" >1.0000</td>\n",
              "      <td id=\"T_334b4_row4_col4\" class=\"data row4 col4\" >0.8400</td>\n",
              "      <td id=\"T_334b4_row4_col5\" class=\"data row4 col5\" >0.7241</td>\n",
              "      <td id=\"T_334b4_row4_col6\" class=\"data row4 col6\" >0.7533</td>\n",
              "    </tr>\n",
              "    <tr>\n",
              "      <th id=\"T_334b4_level0_row5\" class=\"row_heading level0 row5\" >Mean</th>\n",
              "      <td id=\"T_334b4_row5_col0\" class=\"data row5 col0\" >0.8591</td>\n",
              "      <td id=\"T_334b4_row5_col1\" class=\"data row5 col1\" >0.9030</td>\n",
              "      <td id=\"T_334b4_row5_col2\" class=\"data row5 col2\" >0.7182</td>\n",
              "      <td id=\"T_334b4_row5_col3\" class=\"data row5 col3\" >1.0000</td>\n",
              "      <td id=\"T_334b4_row5_col4\" class=\"data row5 col4\" >0.8360</td>\n",
              "      <td id=\"T_334b4_row5_col5\" class=\"data row5 col5\" >0.7182</td>\n",
              "      <td id=\"T_334b4_row5_col6\" class=\"data row5 col6\" >0.7485</td>\n",
              "    </tr>\n",
              "    <tr>\n",
              "      <th id=\"T_334b4_level0_row6\" class=\"row_heading level0 row6\" >Std</th>\n",
              "      <td id=\"T_334b4_row6_col0\" class=\"data row6 col0\" >0.0017</td>\n",
              "      <td id=\"T_334b4_row6_col1\" class=\"data row6 col1\" >0.0020</td>\n",
              "      <td id=\"T_334b4_row6_col2\" class=\"data row6 col2\" >0.0034</td>\n",
              "      <td id=\"T_334b4_row6_col3\" class=\"data row6 col3\" >0.0000</td>\n",
              "      <td id=\"T_334b4_row6_col4\" class=\"data row6 col4\" >0.0023</td>\n",
              "      <td id=\"T_334b4_row6_col5\" class=\"data row6 col5\" >0.0034</td>\n",
              "      <td id=\"T_334b4_row6_col6\" class=\"data row6 col6\" >0.0028</td>\n",
              "    </tr>\n",
              "  </tbody>\n",
              "</table>\n"
            ]
          },
          "metadata": {}
        },
        {
          "output_type": "display_data",
          "data": {
            "text/plain": [
              "Processing:   0%|          | 0/4 [00:00<?, ?it/s]"
            ],
            "application/vnd.jupyter.widget-view+json": {
              "version_major": 2,
              "version_minor": 0,
              "model_id": "e44b34d7f49f4dd1a859b4961af227de"
            }
          },
          "metadata": {
            "application/vnd.jupyter.widget-view+json": {
              "colab": {
                "custom_widget_manager": {
                  "url": "https://ssl.gstatic.com/colaboratory-static/widgets/colab-cdn-widget-manager/2b70e893a8ba7c0f/manager.min.js"
                }
              }
            }
          }
        },
        {
          "output_type": "display_data",
          "data": {
            "text/plain": [
              "<IPython.core.display.HTML object>"
            ],
            "text/html": []
          },
          "metadata": {}
        },
        {
          "output_type": "display_data",
          "data": {
            "text/plain": [
              "<IPython.core.display.HTML object>"
            ],
            "text/html": []
          },
          "metadata": {}
        },
        {
          "output_type": "display_data",
          "data": {
            "text/plain": [
              "<Figure size 800x550 with 1 Axes>"
            ],
            "image/png": "[encoded data removed]"
          },
          "metadata": {}
        }
      ]
    },
    {
      "cell_type": "markdown",
      "source": [
        "## 📈 Learning Curve Analysis\n",
        "\n",
        "We generated a learning curve using Logistic Regression to visualize model generalization performance over different training set sizes.\n",
        "\n",
        "- Both training and validation F1-scores remained close (~0.859) with minimal gap.\n",
        "- The curves are stable and nearly flat, indicating that increasing training data further may not yield major improvements.\n",
        "- The small variance bands suggest reliable and consistent model performance across cross-validation folds.\n",
        "\n",
        "### **Conclusion:** The model is well-generalized and not overfitting. It performs consistently across different training sizes, making it suitable for real-world deployment scenarios.\n"
      ],
      "metadata": {
        "id": "q6qObiTezOhG"
      }
    },
    {
      "cell_type": "markdown",
      "source": [
        "# **🎬 Final Trailer & Reflections**\n",
        "\n",
        "## 📚 What We Learned\n",
        "- Learned the importance of optimizing for **precision, recall, and F1-score** in imbalanced datasets like fraud detection.\n",
        "- Understood how **AutoML tools** can simplify and accelerate the machine learning pipeline.\n",
        "- Gained experience with **SMOTE** to balance data and improve the model’s ability to detect rare fraudulent cases.\n",
        "\n",
        "## 🔧 How We Improved From Prototype\n",
        "- Switched from accuracy to more meaningful metrics such as **PR-AUC** and **confusion matrix**.\n",
        "- Enabled **threshold optimization** and **ensemble learning** to increase the model’s robustness.\n",
        "- Used AutoML's **feature importance** to remove irrelevant variables and improve efficiency.\n",
        "\n",
        "## 🚀 Future Enhancements\n",
        "- Deploy the model in a real-time fraud alert system.\n",
        "- Introduce **time-based behavior detection** for adaptive learning.\n",
        "- Explore **AGI concepts** to develop a self-learning, continuously improving fraud detection engine.\n",
        "\n",
        "## 👥 Final Remarks from Team Members\n",
        "\n",
        "- **Tejaskumar Sanjaykumar Patel (200575242):** \"AutoML showed me how model performance can be automated and fine-tuned with minimal effort. The insights into AGI broadened my vision for future intelligent systems.\"\n",
        "\n",
        "- **Chintan Chauhan (200564227):** \"I appreciated learning how ensemble models and threshold optimization significantly affect fraud detection accuracy, especially when combined with AutoML.\"\n",
        "- **Priyank Bhaveshbhai Siddhapura (200544911):** \"Working on this assignment taught me how to streamline model development with PyCaret and MLJAR, and I’m excited about the potential of AGI in real-world fraud systems.\"\n",
        "\n",
        "- **John Hanok (200573253):** \"This project helped me understand how to handle class imbalance in real-world data and how critical evaluation metrics are when detecting rare events.\"\n",
        "> Our group values the opportunity to apply machine learning to a real-world issue like fraud and looks forward to building more intelligent, explainable, and impactful AI solutions.\n"
      ],
      "metadata": {
        "id": "ooPRLbtAjf9a"
      }
    },
    {
      "cell_type": "markdown",
      "source": [
        "# **Bonus**"
      ],
      "metadata": {
        "id": "nQh1KNW60LZm"
      }
    },
    {
      "cell_type": "code",
      "source": [
        "import plotly.express as px\n",
        "\n",
        "# GroupByLocationForFrauds\n",
        "fraud_by_location = data[data['IsFraud'] == 1].groupby('Location').size().reset_index(name='FraudCount')\n",
        "\n",
        "# PlotFraudCountsPerLocation\n",
        "fig = px.bar(fraud_by_location, x='Location', y='FraudCount', title='Fraud Count by City')\n",
        "fig.show()\n"
      ],
      "metadata": {
        "colab": {
          "base_uri": "https://localhost:8080/",
          "height": 542
        },
        "id": "V_SJC44rnPqo",
        "outputId": "db84cb39-d7ea-40ae-b0cf-26b167d5aa5c"
      },
      "execution_count": 15,
      "outputs": [
        {
          "output_type": "display_data",
          "data": {
            "text/html": [
              "<html>\n",
              "<head><meta charset=\"utf-8\" /></head>\n",
              "<body>\n",
              "    <div>            <script src=\"https://cdnjs.cloudflare.com/ajax/libs/mathjax/2.7.5/MathJax.js?config=TeX-AMS-MML_SVG\"></script><script type=\"text/javascript\">if (window.MathJax && window.MathJax.Hub && window.MathJax.Hub.Config) {window.MathJax.Hub.Config({SVG: {font: \"STIX-Web\"}});}</script>                <script type=\"text/javascript\">window.PlotlyConfig = {MathJaxConfig: 'local'};</script>\n",
              "        <script charset=\"utf-8\" src=\"https://cdn.plot.ly/plotly-2.35.2.min.js\"></script>                <div id=\"bad58e16-e13e-413b-b041-f5e6ca0abc9e\" class=\"plotly-graph-div\" style=\"height:525px; width:100%;\"></div>            <script type=\"text/javascript\">                                    window.PLOTLYENV=window.PLOTLYENV || {};                                    if (document.getElementById(\"bad58e16-e13e-413b-b041-f5e6ca0abc9e\")) {                    Plotly.newPlot(                        \"bad58e16-e13e-413b-b041-f5e6ca0abc9e\",                        [{\"alignmentgroup\":\"True\",\"hovertemplate\":\"Location=%{x}\\u003cbr\\u003eFraudCount=%{y}\\u003cextra\\u003e\\u003c\\u002fextra\\u003e\",\"legendgroup\":\"\",\"marker\":{\"color\":\"#636efa\",\"pattern\":{\"shape\":\"\"}},\"name\":\"\",\"offsetgroup\":\"\",\"orientation\":\"v\",\"showlegend\":false,\"textposition\":\"auto\",\"x\":[\"Chicago\",\"Dallas\",\"Houston\",\"Los Angeles\",\"New York\",\"Philadelphia\",\"Phoenix\",\"San Antonio\",\"San Diego\",\"San Jose\"],\"xaxis\":\"x\",\"y\":[95,99,105,95,116,90,99,99,115,87],\"yaxis\":\"y\",\"type\":\"bar\"}],                        {\"template\":{\"data\":{\"histogram2dcontour\":[{\"type\":\"histogram2dcontour\",\"colorbar\":{\"outlinewidth\":0,\"ticks\":\"\"},\"colorscale\":[[0.0,\"#0d0887\"],[0.1111111111111111,\"#46039f\"],[0.2222222222222222,\"#7201a8\"],[0.3333333333333333,\"#9c179e\"],[0.4444444444444444,\"#bd3786\"],[0.5555555555555556,\"#d8576b\"],[0.6666666666666666,\"#ed7953\"],[0.7777777777777778,\"#fb9f3a\"],[0.8888888888888888,\"#fdca26\"],[1.0,\"#f0f921\"]]}],\"choropleth\":[{\"type\":\"choropleth\",\"colorbar\":{\"outlinewidth\":0,\"ticks\":\"\"}}],\"histogram2d\":[{\"type\":\"histogram2d\",\"colorbar\":{\"outlinewidth\":0,\"ticks\":\"\"},\"colorscale\":[[0.0,\"#0d0887\"],[0.1111111111111111,\"#46039f\"],[0.2222222222222222,\"#7201a8\"],[0.3333333333333333,\"#9c179e\"],[0.4444444444444444,\"#bd3786\"],[0.5555555555555556,\"#d8576b\"],[0.6666666666666666,\"#ed7953\"],[0.7777777777777778,\"#fb9f3a\"],[0.8888888888888888,\"#fdca26\"],[1.0,\"#f0f921\"]]}],\"heatmap\":[{\"type\":\"heatmap\",\"colorbar\":{\"outlinewidth\":0,\"ticks\":\"\"},\"colorscale\":[[0.0,\"#0d0887\"],[0.1111111111111111,\"#46039f\"],[0.2222222222222222,\"#7201a8\"],[0.3333333333333333,\"#9c179e\"],[0.4444444444444444,\"#bd3786\"],[0.5555555555555556,\"#d8576b\"],[0.6666666666666666,\"#ed7953\"],[0.7777777777777778,\"#fb9f3a\"],[0.8888888888888888,\"#fdca26\"],[1.0,\"#f0f921\"]]}],\"heatmapgl\":[{\"type\":\"heatmapgl\",\"colorbar\":{\"outlinewidth\":0,\"ticks\":\"\"},\"colorscale\":[[0.0,\"#0d0887\"],[0.1111111111111111,\"#46039f\"],[0.2222222222222222,\"#7201a8\"],[0.3333333333333333,\"#9c179e\"],[0.4444444444444444,\"#bd3786\"],[0.5555555555555556,\"#d8576b\"],[0.6666666666666666,\"#ed7953\"],[0.7777777777777778,\"#fb9f3a\"],[0.8888888888888888,\"#fdca26\"],[1.0,\"#f0f921\"]]}],\"contourcarpet\":[{\"type\":\"contourcarpet\",\"colorbar\":{\"outlinewidth\":0,\"ticks\":\"\"}}],\"contour\":[{\"type\":\"contour\",\"colorbar\":{\"outlinewidth\":0,\"ticks\":\"\"},\"colorscale\":[[0.0,\"#0d0887\"],[0.1111111111111111,\"#46039f\"],[0.2222222222222222,\"#7201a8\"],[0.3333333333333333,\"#9c179e\"],[0.4444444444444444,\"#bd3786\"],[0.5555555555555556,\"#d8576b\"],[0.6666666666666666,\"#ed7953\"],[0.7777777777777778,\"#fb9f3a\"],[0.8888888888888888,\"#fdca26\"],[1.0,\"#f0f921\"]]}],\"surface\":[{\"type\":\"surface\",\"colorbar\":{\"outlinewidth\":0,\"ticks\":\"\"},\"colorscale\":[[0.0,\"#0d0887\"],[0.1111111111111111,\"#46039f\"],[0.2222222222222222,\"#7201a8\"],[0.3333333333333333,\"#9c179e\"],[0.4444444444444444,\"#bd3786\"],[0.5555555555555556,\"#d8576b\"],[0.6666666666666666,\"#ed7953\"],[0.7777777777777778,\"#fb9f3a\"],[0.8888888888888888,\"#fdca26\"],[1.0,\"#f0f921\"]]}],\"mesh3d\":[{\"type\":\"mesh3d\",\"colorbar\":{\"outlinewidth\":0,\"ticks\":\"\"}}],\"scatter\":[{\"fillpattern\":{\"fillmode\":\"overlay\",\"size\":10,\"solidity\":0.2},\"type\":\"scatter\"}],\"parcoords\":[{\"type\":\"parcoords\",\"line\":{\"colorbar\":{\"outlinewidth\":0,\"ticks\":\"\"}}}],\"scatterpolargl\":[{\"type\":\"scatterpolargl\",\"marker\":{\"colorbar\":{\"outlinewidth\":0,\"ticks\":\"\"}}}],\"bar\":[{\"error_x\":{\"color\":\"#2a3f5f\"},\"error_y\":{\"color\":\"#2a3f5f\"},\"marker\":{\"line\":{\"color\":\"#E5ECF6\",\"width\":0.5},\"pattern\":{\"fillmode\":\"overlay\",\"size\":10,\"solidity\":0.2}},\"type\":\"bar\"}],\"scattergeo\":[{\"type\":\"scattergeo\",\"marker\":{\"colorbar\":{\"outlinewidth\":0,\"ticks\":\"\"}}}],\"scatterpolar\":[{\"type\":\"scatterpolar\",\"marker\":{\"colorbar\":{\"outlinewidth\":0,\"ticks\":\"\"}}}],\"histogram\":[{\"marker\":{\"pattern\":{\"fillmode\":\"overlay\",\"size\":10,\"solidity\":0.2}},\"type\":\"histogram\"}],\"scattergl\":[{\"type\":\"scattergl\",\"marker\":{\"colorbar\":{\"outlinewidth\":0,\"ticks\":\"\"}}}],\"scatter3d\":[{\"type\":\"scatter3d\",\"line\":{\"colorbar\":{\"outlinewidth\":0,\"ticks\":\"\"}},\"marker\":{\"colorbar\":{\"outlinewidth\":0,\"ticks\":\"\"}}}],\"scattermapbox\":[{\"type\":\"scattermapbox\",\"marker\":{\"colorbar\":{\"outlinewidth\":0,\"ticks\":\"\"}}}],\"scatterternary\":[{\"type\":\"scatterternary\",\"marker\":{\"colorbar\":{\"outlinewidth\":0,\"ticks\":\"\"}}}],\"scattercarpet\":[{\"type\":\"scattercarpet\",\"marker\":{\"colorbar\":{\"outlinewidth\":0,\"ticks\":\"\"}}}],\"carpet\":[{\"aaxis\":{\"endlinecolor\":\"#2a3f5f\",\"gridcolor\":\"white\",\"linecolor\":\"white\",\"minorgridcolor\":\"white\",\"startlinecolor\":\"#2a3f5f\"},\"baxis\":{\"endlinecolor\":\"#2a3f5f\",\"gridcolor\":\"white\",\"linecolor\":\"white\",\"minorgridcolor\":\"white\",\"startlinecolor\":\"#2a3f5f\"},\"type\":\"carpet\"}],\"table\":[{\"cells\":{\"fill\":{\"color\":\"#EBF0F8\"},\"line\":{\"color\":\"white\"}},\"header\":{\"fill\":{\"color\":\"#C8D4E3\"},\"line\":{\"color\":\"white\"}},\"type\":\"table\"}],\"barpolar\":[{\"marker\":{\"line\":{\"color\":\"#E5ECF6\",\"width\":0.5},\"pattern\":{\"fillmode\":\"overlay\",\"size\":10,\"solidity\":0.2}},\"type\":\"barpolar\"}],\"pie\":[{\"automargin\":true,\"type\":\"pie\"}]},\"layout\":{\"autotypenumbers\":\"strict\",\"colorway\":[\"#636efa\",\"#EF553B\",\"#00cc96\",\"#ab63fa\",\"#FFA15A\",\"#19d3f3\",\"#FF6692\",\"#B6E880\",\"#FF97FF\",\"#FECB52\"],\"font\":{\"color\":\"#2a3f5f\"},\"hovermode\":\"closest\",\"hoverlabel\":{\"align\":\"left\"},\"paper_bgcolor\":\"white\",\"plot_bgcolor\":\"#E5ECF6\",\"polar\":{\"bgcolor\":\"#E5ECF6\",\"angularaxis\":{\"gridcolor\":\"white\",\"linecolor\":\"white\",\"ticks\":\"\"},\"radialaxis\":{\"gridcolor\":\"white\",\"linecolor\":\"white\",\"ticks\":\"\"}},\"ternary\":{\"bgcolor\":\"#E5ECF6\",\"aaxis\":{\"gridcolor\":\"white\",\"linecolor\":\"white\",\"ticks\":\"\"},\"baxis\":{\"gridcolor\":\"white\",\"linecolor\":\"white\",\"ticks\":\"\"},\"caxis\":{\"gridcolor\":\"white\",\"linecolor\":\"white\",\"ticks\":\"\"}},\"coloraxis\":{\"colorbar\":{\"outlinewidth\":0,\"ticks\":\"\"}},\"colorscale\":{\"sequential\":[[0.0,\"#0d0887\"],[0.1111111111111111,\"#46039f\"],[0.2222222222222222,\"#7201a8\"],[0.3333333333333333,\"#9c179e\"],[0.4444444444444444,\"#bd3786\"],[0.5555555555555556,\"#d8576b\"],[0.6666666666666666,\"#ed7953\"],[0.7777777777777778,\"#fb9f3a\"],[0.8888888888888888,\"#fdca26\"],[1.0,\"#f0f921\"]],\"sequentialminus\":[[0.0,\"#0d0887\"],[0.1111111111111111,\"#46039f\"],[0.2222222222222222,\"#7201a8\"],[0.3333333333333333,\"#9c179e\"],[0.4444444444444444,\"#bd3786\"],[0.5555555555555556,\"#d8576b\"],[0.6666666666666666,\"#ed7953\"],[0.7777777777777778,\"#fb9f3a\"],[0.8888888888888888,\"#fdca26\"],[1.0,\"#f0f921\"]],\"diverging\":[[0,\"#8e0152\"],[0.1,\"#c51b7d\"],[0.2,\"#de77ae\"],[0.3,\"#f1b6da\"],[0.4,\"#fde0ef\"],[0.5,\"#f7f7f7\"],[0.6,\"#e6f5d0\"],[0.7,\"#b8e186\"],[0.8,\"#7fbc41\"],[0.9,\"#4d9221\"],[1,\"#276419\"]]},\"xaxis\":{\"gridcolor\":\"white\",\"linecolor\":\"white\",\"ticks\":\"\",\"title\":{\"standoff\":15},\"zerolinecolor\":\"white\",\"automargin\":true,\"zerolinewidth\":2},\"yaxis\":{\"gridcolor\":\"white\",\"linecolor\":\"white\",\"ticks\":\"\",\"title\":{\"standoff\":15},\"zerolinecolor\":\"white\",\"automargin\":true,\"zerolinewidth\":2},\"scene\":{\"xaxis\":{\"backgroundcolor\":\"#E5ECF6\",\"gridcolor\":\"white\",\"linecolor\":\"white\",\"showbackground\":true,\"ticks\":\"\",\"zerolinecolor\":\"white\",\"gridwidth\":2},\"yaxis\":{\"backgroundcolor\":\"#E5ECF6\",\"gridcolor\":\"white\",\"linecolor\":\"white\",\"showbackground\":true,\"ticks\":\"\",\"zerolinecolor\":\"white\",\"gridwidth\":2},\"zaxis\":{\"backgroundcolor\":\"#E5ECF6\",\"gridcolor\":\"white\",\"linecolor\":\"white\",\"showbackground\":true,\"ticks\":\"\",\"zerolinecolor\":\"white\",\"gridwidth\":2}},\"shapedefaults\":{\"line\":{\"color\":\"#2a3f5f\"}},\"annotationdefaults\":{\"arrowcolor\":\"#2a3f5f\",\"arrowhead\":0,\"arrowwidth\":1},\"geo\":{\"bgcolor\":\"white\",\"landcolor\":\"#E5ECF6\",\"subunitcolor\":\"white\",\"showland\":true,\"showlakes\":true,\"lakecolor\":\"white\"},\"title\":{\"x\":0.05},\"mapbox\":{\"style\":\"light\"}}},\"xaxis\":{\"anchor\":\"y\",\"domain\":[0.0,1.0],\"title\":{\"text\":\"Location\"}},\"yaxis\":{\"anchor\":\"x\",\"domain\":[0.0,1.0],\"title\":{\"text\":\"FraudCount\"}},\"legend\":{\"tracegroupgap\":0},\"title\":{\"text\":\"Fraud Count by City\"},\"barmode\":\"relative\"},                        {\"responsive\": true}                    ).then(function(){\n",
              "                            \n",
              "var gd = document.getElementById('bad58e16-e13e-413b-b041-f5e6ca0abc9e');\n",
              "var x = new MutationObserver(function (mutations, observer) {{\n",
              "        var display = window.getComputedStyle(gd).display;\n",
              "        if (!display || display === 'none') {{\n",
              "            console.log([gd, 'removed!']);\n",
              "            Plotly.purge(gd);\n",
              "            observer.disconnect();\n",
              "        }}\n",
              "}});\n",
              "\n",
              "// Listen for the removal of the full notebook cells\n",
              "var notebookContainer = gd.closest('#notebook-container');\n",
              "if (notebookContainer) {{\n",
              "    x.observe(notebookContainer, {childList: true});\n",
              "}}\n",
              "\n",
              "// Listen for the clearing of the current output cell\n",
              "var outputEl = gd.closest('.output');\n",
              "if (outputEl) {{\n",
              "    x.observe(outputEl, {childList: true});\n",
              "}}\n",
              "\n",
              "                        })                };                            </script>        </div>\n",
              "</body>\n",
              "</html>"
            ]
          },
          "metadata": {}
        }
      ]
    },
    {
      "cell_type": "code",
      "source": [
        "#  Explainability with SHAP for model transparency\n",
        "import shap\n",
        "\n",
        "# Use only a small sample of data (e.g., 20 rows)\n",
        "X_sample = X_resampled.sample(20, random_state=42)\n",
        "\n",
        "# Use TreeExplainer for Extra Trees Classifier (very efficient for tree models)\n",
        "explainer = shap.TreeExplainer(best_model)\n",
        "\n",
        "# Compute SHAP values (faster with fewer rows)\n",
        "shap_values = explainer.shap_values(X_sample)\n",
        "\n",
        "# Plot SHAP summary for class 1 (fraud)\n",
        "shap.summary_plot(shap_values[1], X_sample)\n",
        "\n"
      ],
      "metadata": {
        "colab": {
          "base_uri": "https://localhost:8080/",
          "height": 631
        },
        "id": "DQYFzjv50NTT",
        "outputId": "7555f95b-7113-4d79-9ec5-44a5b2fe5233"
      },
      "execution_count": 21,
      "outputs": [
        {
          "output_type": "display_data",
          "data": {
            "text/plain": [
              "<Figure size 800x630 with 2 Axes>"
            ],
            "image/png": "[encoded data removed]"
          },
          "metadata": {}
        }
      ]
    },
    {
      "cell_type": "markdown",
      "source": [
        "## SHAP Summary Plot: Feature Impact on Fraud Prediction\n",
        "\n",
        "This SHAP plot explains how each feature influenced the model's prediction for fraud detection.\n",
        "####  **Key takeaways:**\n",
        "\n",
        "- **Amount** and **MerchantID** had the highest impact, which makes sense — unusually high or suspicious amounts are often flagged.\n",
        "- **TransactionType_refund** (especially when high — shown in red) tends to **increase** the likelihood of being classified as fraud.\n",
        "- Location-based features such as **Location_Dallas** and **Location_San Antonio** also have meaningful SHAP values, suggesting some cities may have higher fraud risk patterns in the dataset."
      ],
      "metadata": {
        "id": "pkDEzRSI62xh"
      }
    },
    {
      "cell_type": "code",
      "source": [],
      "metadata": {
        "id": "U1eS3mIJ64F2"
      },
      "execution_count": null,
      "outputs": []
    }
  ]
}